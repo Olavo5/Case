{
  "nbformat": 4,
  "nbformat_minor": 0,
  "metadata": {
    "colab": {
      "name": "Dados ifood projeto final",
      "provenance": []
    },
    "kernelspec": {
      "name": "python3",
      "display_name": "Python 3"
    },
    "language_info": {
      "name": "python"
    }
  },
  "cells": [
    {
      "cell_type": "code",
      "metadata": {
        "colab": {
          "base_uri": "https://localhost:8080/",
          "height": 204
        },
        "id": "R9_tWihGgtO6",
        "outputId": "2f5fdbe1-5d7d-4e75-ca3a-f86875cba1e2"
      },
      "source": [
        "import pandas as pd \n",
        "import numpy as np\n",
        "\n",
        "df = pd.read_csv('/content/drive/MyDrive/projeto_final/ifood_data/pedidos..csv')\n",
        "df = df.drop(columns='id_usuario')\n",
        "df.head()"
      ],
      "execution_count": null,
      "outputs": [
        {
          "output_type": "execute_result",
          "data": {
            "text/html": [
              "<div>\n",
              "<style scoped>\n",
              "    .dataframe tbody tr th:only-of-type {\n",
              "        vertical-align: middle;\n",
              "    }\n",
              "\n",
              "    .dataframe tbody tr th {\n",
              "        vertical-align: top;\n",
              "    }\n",
              "\n",
              "    .dataframe thead th {\n",
              "        text-align: right;\n",
              "    }\n",
              "</style>\n",
              "<table border=\"1\" class=\"dataframe\">\n",
              "  <thead>\n",
              "    <tr style=\"text-align: right;\">\n",
              "      <th></th>\n",
              "      <th>id_pedido</th>\n",
              "      <th>restaurante</th>\n",
              "      <th>valor</th>\n",
              "      <th>status</th>\n",
              "      <th>data_registro</th>\n",
              "      <th>data_pedido</th>\n",
              "    </tr>\n",
              "  </thead>\n",
              "  <tbody>\n",
              "    <tr>\n",
              "      <th>0</th>\n",
              "      <td>3075017489</td>\n",
              "      <td>The Pub Burguer</td>\n",
              "      <td>25.58</td>\n",
              "      <td>CONCLUDED</td>\n",
              "      <td>2018-12-07</td>\n",
              "      <td>2021-04-10</td>\n",
              "    </tr>\n",
              "    <tr>\n",
              "      <th>1</th>\n",
              "      <td>2827561923</td>\n",
              "      <td>Restaurante Sabor Supremo</td>\n",
              "      <td>16.00</td>\n",
              "      <td>CONCLUDED</td>\n",
              "      <td>2018-12-07</td>\n",
              "      <td>2021-01-28</td>\n",
              "    </tr>\n",
              "    <tr>\n",
              "      <th>2</th>\n",
              "      <td>2291203258</td>\n",
              "      <td>Zeus Burger</td>\n",
              "      <td>26.40</td>\n",
              "      <td>CONCLUDED</td>\n",
              "      <td>2018-12-07</td>\n",
              "      <td>2020-09-21</td>\n",
              "    </tr>\n",
              "    <tr>\n",
              "      <th>3</th>\n",
              "      <td>2841155572</td>\n",
              "      <td>Restaurante Sabor Supremo</td>\n",
              "      <td>16.00</td>\n",
              "      <td>CONCLUDED</td>\n",
              "      <td>2018-12-07</td>\n",
              "      <td>2021-02-01</td>\n",
              "    </tr>\n",
              "    <tr>\n",
              "      <th>4</th>\n",
              "      <td>2336480420</td>\n",
              "      <td>Olimpo Burger House</td>\n",
              "      <td>29.50</td>\n",
              "      <td>CONCLUDED</td>\n",
              "      <td>2018-12-07</td>\n",
              "      <td>2020-10-04</td>\n",
              "    </tr>\n",
              "  </tbody>\n",
              "</table>\n",
              "</div>"
            ],
            "text/plain": [
              "    id_pedido                restaurante  ...  data_registro data_pedido\n",
              "0  3075017489            The Pub Burguer  ...     2018-12-07  2021-04-10\n",
              "1  2827561923  Restaurante Sabor Supremo  ...     2018-12-07  2021-01-28\n",
              "2  2291203258                Zeus Burger  ...     2018-12-07  2020-09-21\n",
              "3  2841155572  Restaurante Sabor Supremo  ...     2018-12-07  2021-02-01\n",
              "4  2336480420        Olimpo Burger House  ...     2018-12-07  2020-10-04\n",
              "\n",
              "[5 rows x 6 columns]"
            ]
          },
          "metadata": {
            "tags": []
          },
          "execution_count": 2
        }
      ]
    },
    {
      "cell_type": "code",
      "metadata": {
        "colab": {
          "base_uri": "https://localhost:8080/"
        },
        "id": "-ivO0Ur6Rd2h",
        "outputId": "850207ee-d042-41a4-efb3-841e1cb98b38"
      },
      "source": [
        "df.info()"
      ],
      "execution_count": null,
      "outputs": [
        {
          "output_type": "stream",
          "text": [
            "<class 'pandas.core.frame.DataFrame'>\n",
            "RangeIndex: 16 entries, 0 to 15\n",
            "Data columns (total 6 columns):\n",
            " #   Column         Non-Null Count  Dtype  \n",
            "---  ------         --------------  -----  \n",
            " 0   id_pedido      16 non-null     int64  \n",
            " 1   restaurante    16 non-null     object \n",
            " 2   valor          16 non-null     float64\n",
            " 3   status         16 non-null     object \n",
            " 4   data_registro  16 non-null     object \n",
            " 5   data_pedido    16 non-null     object \n",
            "dtypes: float64(1), int64(1), object(4)\n",
            "memory usage: 896.0+ bytes\n"
          ],
          "name": "stdout"
        }
      ]
    },
    {
      "cell_type": "code",
      "metadata": {
        "id": "owD__nwcQrlc"
      },
      "source": [
        "df['data_pedido'] = pd.to_datetime(df['data_pedido'],format='%Y%m%d %H:%M')\n",
        "df['ano'] = df['data_pedido'].dt.year\n",
        "df['mes'] = df['data_pedido'].dt.month_name()\n",
        "df['dia'] = df['data_pedido'].dt.day\n",
        "df['dia da semana'] = df['data_pedido'].dt.day_name()\n"
      ],
      "execution_count": null,
      "outputs": []
    },
    {
      "cell_type": "code",
      "metadata": {
        "colab": {
          "base_uri": "https://localhost:8080/",
          "height": 255
        },
        "id": "tuYgYGFpR4vO",
        "outputId": "b91af91d-210b-4d43-a85e-4bf997d8c902"
      },
      "source": [
        "df.head()"
      ],
      "execution_count": null,
      "outputs": [
        {
          "output_type": "execute_result",
          "data": {
            "text/html": [
              "<div>\n",
              "<style scoped>\n",
              "    .dataframe tbody tr th:only-of-type {\n",
              "        vertical-align: middle;\n",
              "    }\n",
              "\n",
              "    .dataframe tbody tr th {\n",
              "        vertical-align: top;\n",
              "    }\n",
              "\n",
              "    .dataframe thead th {\n",
              "        text-align: right;\n",
              "    }\n",
              "</style>\n",
              "<table border=\"1\" class=\"dataframe\">\n",
              "  <thead>\n",
              "    <tr style=\"text-align: right;\">\n",
              "      <th></th>\n",
              "      <th>id_pedido</th>\n",
              "      <th>restaurante</th>\n",
              "      <th>valor</th>\n",
              "      <th>status</th>\n",
              "      <th>data_registro</th>\n",
              "      <th>data_pedido</th>\n",
              "      <th>ano</th>\n",
              "      <th>mes</th>\n",
              "      <th>dia</th>\n",
              "      <th>dia da semana</th>\n",
              "    </tr>\n",
              "  </thead>\n",
              "  <tbody>\n",
              "    <tr>\n",
              "      <th>0</th>\n",
              "      <td>3075017489</td>\n",
              "      <td>The Pub Burguer</td>\n",
              "      <td>25.58</td>\n",
              "      <td>CONCLUDED</td>\n",
              "      <td>2018-12-07</td>\n",
              "      <td>2021-04-10</td>\n",
              "      <td>2021</td>\n",
              "      <td>April</td>\n",
              "      <td>10</td>\n",
              "      <td>Saturday</td>\n",
              "    </tr>\n",
              "    <tr>\n",
              "      <th>1</th>\n",
              "      <td>2827561923</td>\n",
              "      <td>Restaurante Sabor Supremo</td>\n",
              "      <td>16.00</td>\n",
              "      <td>CONCLUDED</td>\n",
              "      <td>2018-12-07</td>\n",
              "      <td>2021-01-28</td>\n",
              "      <td>2021</td>\n",
              "      <td>January</td>\n",
              "      <td>28</td>\n",
              "      <td>Thursday</td>\n",
              "    </tr>\n",
              "    <tr>\n",
              "      <th>2</th>\n",
              "      <td>2291203258</td>\n",
              "      <td>Zeus Burger</td>\n",
              "      <td>26.40</td>\n",
              "      <td>CONCLUDED</td>\n",
              "      <td>2018-12-07</td>\n",
              "      <td>2020-09-21</td>\n",
              "      <td>2020</td>\n",
              "      <td>September</td>\n",
              "      <td>21</td>\n",
              "      <td>Monday</td>\n",
              "    </tr>\n",
              "    <tr>\n",
              "      <th>3</th>\n",
              "      <td>2841155572</td>\n",
              "      <td>Restaurante Sabor Supremo</td>\n",
              "      <td>16.00</td>\n",
              "      <td>CONCLUDED</td>\n",
              "      <td>2018-12-07</td>\n",
              "      <td>2021-02-01</td>\n",
              "      <td>2021</td>\n",
              "      <td>February</td>\n",
              "      <td>1</td>\n",
              "      <td>Monday</td>\n",
              "    </tr>\n",
              "    <tr>\n",
              "      <th>4</th>\n",
              "      <td>2336480420</td>\n",
              "      <td>Olimpo Burger House</td>\n",
              "      <td>29.50</td>\n",
              "      <td>CONCLUDED</td>\n",
              "      <td>2018-12-07</td>\n",
              "      <td>2020-10-04</td>\n",
              "      <td>2020</td>\n",
              "      <td>October</td>\n",
              "      <td>4</td>\n",
              "      <td>Sunday</td>\n",
              "    </tr>\n",
              "  </tbody>\n",
              "</table>\n",
              "</div>"
            ],
            "text/plain": [
              "    id_pedido                restaurante  valor  ...        mes dia dia da semana\n",
              "0  3075017489            The Pub Burguer  25.58  ...      April  10      Saturday\n",
              "1  2827561923  Restaurante Sabor Supremo  16.00  ...    January  28      Thursday\n",
              "2  2291203258                Zeus Burger  26.40  ...  September  21        Monday\n",
              "3  2841155572  Restaurante Sabor Supremo  16.00  ...   February   1        Monday\n",
              "4  2336480420        Olimpo Burger House  29.50  ...    October   4        Sunday\n",
              "\n",
              "[5 rows x 10 columns]"
            ]
          },
          "metadata": {
            "tags": []
          },
          "execution_count": 5
        }
      ]
    },
    {
      "cell_type": "code",
      "metadata": {
        "colab": {
          "base_uri": "https://localhost:8080/",
          "height": 255
        },
        "id": "QB0wSibXB7d3",
        "outputId": "be9f24fd-58de-4220-eac1-fa7b4d312a06"
      },
      "source": [
        "\n",
        "df.head()"
      ],
      "execution_count": null,
      "outputs": [
        {
          "output_type": "execute_result",
          "data": {
            "text/html": [
              "<div>\n",
              "<style scoped>\n",
              "    .dataframe tbody tr th:only-of-type {\n",
              "        vertical-align: middle;\n",
              "    }\n",
              "\n",
              "    .dataframe tbody tr th {\n",
              "        vertical-align: top;\n",
              "    }\n",
              "\n",
              "    .dataframe thead th {\n",
              "        text-align: right;\n",
              "    }\n",
              "</style>\n",
              "<table border=\"1\" class=\"dataframe\">\n",
              "  <thead>\n",
              "    <tr style=\"text-align: right;\">\n",
              "      <th></th>\n",
              "      <th>id_pedido</th>\n",
              "      <th>restaurante</th>\n",
              "      <th>valor</th>\n",
              "      <th>status</th>\n",
              "      <th>data_registro</th>\n",
              "      <th>data_pedido</th>\n",
              "      <th>ano</th>\n",
              "      <th>mes</th>\n",
              "      <th>dia</th>\n",
              "      <th>dia da semana</th>\n",
              "    </tr>\n",
              "  </thead>\n",
              "  <tbody>\n",
              "    <tr>\n",
              "      <th>0</th>\n",
              "      <td>3075017489</td>\n",
              "      <td>The Pub Burguer</td>\n",
              "      <td>25.58</td>\n",
              "      <td>CONCLUDED</td>\n",
              "      <td>2018-12-07</td>\n",
              "      <td>2021-04-10</td>\n",
              "      <td>2021</td>\n",
              "      <td>April</td>\n",
              "      <td>10</td>\n",
              "      <td>Saturday</td>\n",
              "    </tr>\n",
              "    <tr>\n",
              "      <th>1</th>\n",
              "      <td>2827561923</td>\n",
              "      <td>Restaurante Sabor Supremo</td>\n",
              "      <td>16.00</td>\n",
              "      <td>CONCLUDED</td>\n",
              "      <td>2018-12-07</td>\n",
              "      <td>2021-01-28</td>\n",
              "      <td>2021</td>\n",
              "      <td>January</td>\n",
              "      <td>28</td>\n",
              "      <td>Thursday</td>\n",
              "    </tr>\n",
              "    <tr>\n",
              "      <th>2</th>\n",
              "      <td>2291203258</td>\n",
              "      <td>Zeus Burger</td>\n",
              "      <td>26.40</td>\n",
              "      <td>CONCLUDED</td>\n",
              "      <td>2018-12-07</td>\n",
              "      <td>2020-09-21</td>\n",
              "      <td>2020</td>\n",
              "      <td>September</td>\n",
              "      <td>21</td>\n",
              "      <td>Monday</td>\n",
              "    </tr>\n",
              "    <tr>\n",
              "      <th>3</th>\n",
              "      <td>2841155572</td>\n",
              "      <td>Restaurante Sabor Supremo</td>\n",
              "      <td>16.00</td>\n",
              "      <td>CONCLUDED</td>\n",
              "      <td>2018-12-07</td>\n",
              "      <td>2021-02-01</td>\n",
              "      <td>2021</td>\n",
              "      <td>February</td>\n",
              "      <td>1</td>\n",
              "      <td>Monday</td>\n",
              "    </tr>\n",
              "    <tr>\n",
              "      <th>4</th>\n",
              "      <td>2336480420</td>\n",
              "      <td>Olimpo Burger House</td>\n",
              "      <td>29.50</td>\n",
              "      <td>CONCLUDED</td>\n",
              "      <td>2018-12-07</td>\n",
              "      <td>2020-10-04</td>\n",
              "      <td>2020</td>\n",
              "      <td>October</td>\n",
              "      <td>4</td>\n",
              "      <td>Sunday</td>\n",
              "    </tr>\n",
              "  </tbody>\n",
              "</table>\n",
              "</div>"
            ],
            "text/plain": [
              "    id_pedido                restaurante  valor  ...        mes dia dia da semana\n",
              "0  3075017489            The Pub Burguer  25.58  ...      April  10      Saturday\n",
              "1  2827561923  Restaurante Sabor Supremo  16.00  ...    January  28      Thursday\n",
              "2  2291203258                Zeus Burger  26.40  ...  September  21        Monday\n",
              "3  2841155572  Restaurante Sabor Supremo  16.00  ...   February   1        Monday\n",
              "4  2336480420        Olimpo Burger House  29.50  ...    October   4        Sunday\n",
              "\n",
              "[5 rows x 10 columns]"
            ]
          },
          "metadata": {
            "tags": []
          },
          "execution_count": 6
        }
      ]
    },
    {
      "cell_type": "code",
      "metadata": {
        "colab": {
          "base_uri": "https://localhost:8080/"
        },
        "id": "NDc7W9PSYZYG",
        "outputId": "094e96b8-eb82-474f-d6e6-4e8d5c78af7b"
      },
      "source": [
        "#valor total gasto\n",
        "valor_total = df['valor'].sum()\n",
        "valor_total"
      ],
      "execution_count": null,
      "outputs": [
        {
          "output_type": "execute_result",
          "data": {
            "text/plain": [
              "414.40999999999997"
            ]
          },
          "metadata": {
            "tags": []
          },
          "execution_count": 7
        }
      ]
    },
    {
      "cell_type": "code",
      "metadata": {
        "colab": {
          "base_uri": "https://localhost:8080/",
          "height": 359
        },
        "id": "RKdLtj1GIfNe",
        "outputId": "02bdb094-ff1e-4119-a5c1-238963ecf364"
      },
      "source": [
        "# Restaurante em que mais pedi\n",
        "top_restaurantes = df.groupby(['restaurante'])\n",
        "top_restaurantes.sum().sort_values(by=['valor'], ascending=False)"
      ],
      "execution_count": null,
      "outputs": [
        {
          "output_type": "execute_result",
          "data": {
            "text/html": [
              "<div>\n",
              "<style scoped>\n",
              "    .dataframe tbody tr th:only-of-type {\n",
              "        vertical-align: middle;\n",
              "    }\n",
              "\n",
              "    .dataframe tbody tr th {\n",
              "        vertical-align: top;\n",
              "    }\n",
              "\n",
              "    .dataframe thead th {\n",
              "        text-align: right;\n",
              "    }\n",
              "</style>\n",
              "<table border=\"1\" class=\"dataframe\">\n",
              "  <thead>\n",
              "    <tr style=\"text-align: right;\">\n",
              "      <th></th>\n",
              "      <th>id_pedido</th>\n",
              "      <th>valor</th>\n",
              "      <th>ano</th>\n",
              "      <th>dia</th>\n",
              "    </tr>\n",
              "    <tr>\n",
              "      <th>restaurante</th>\n",
              "      <th></th>\n",
              "      <th></th>\n",
              "      <th></th>\n",
              "      <th></th>\n",
              "    </tr>\n",
              "  </thead>\n",
              "  <tbody>\n",
              "    <tr>\n",
              "      <th>The Pub Burguer</th>\n",
              "      <td>18145098324</td>\n",
              "      <td>154.61</td>\n",
              "      <td>12126</td>\n",
              "      <td>91</td>\n",
              "    </tr>\n",
              "    <tr>\n",
              "      <th>Pizzaria Di Duda</th>\n",
              "      <td>2676536349</td>\n",
              "      <td>63.00</td>\n",
              "      <td>2020</td>\n",
              "      <td>26</td>\n",
              "    </tr>\n",
              "    <tr>\n",
              "      <th>Olimpo Burger House</th>\n",
              "      <td>4434139719</td>\n",
              "      <td>53.50</td>\n",
              "      <td>4040</td>\n",
              "      <td>30</td>\n",
              "    </tr>\n",
              "    <tr>\n",
              "      <th>Geraldinos E Arquibaldos</th>\n",
              "      <td>3126922890</td>\n",
              "      <td>35.40</td>\n",
              "      <td>2021</td>\n",
              "      <td>25</td>\n",
              "    </tr>\n",
              "    <tr>\n",
              "      <th>Restaurante Sabor Supremo</th>\n",
              "      <td>5668717495</td>\n",
              "      <td>32.00</td>\n",
              "      <td>4042</td>\n",
              "      <td>29</td>\n",
              "    </tr>\n",
              "    <tr>\n",
              "      <th>Zeus Burger</th>\n",
              "      <td>2291203258</td>\n",
              "      <td>26.40</td>\n",
              "      <td>2020</td>\n",
              "      <td>21</td>\n",
              "    </tr>\n",
              "    <tr>\n",
              "      <th>Dom Burger</th>\n",
              "      <td>2521274512</td>\n",
              "      <td>25.50</td>\n",
              "      <td>2020</td>\n",
              "      <td>21</td>\n",
              "    </tr>\n",
              "    <tr>\n",
              "      <th>Sacolao Supremo</th>\n",
              "      <td>2831771911</td>\n",
              "      <td>16.00</td>\n",
              "      <td>2021</td>\n",
              "      <td>29</td>\n",
              "    </tr>\n",
              "    <tr>\n",
              "      <th>Kisabor Delivery</th>\n",
              "      <td>2764182603</td>\n",
              "      <td>8.00</td>\n",
              "      <td>2021</td>\n",
              "      <td>11</td>\n",
              "    </tr>\n",
              "  </tbody>\n",
              "</table>\n",
              "</div>"
            ],
            "text/plain": [
              "                             id_pedido   valor    ano  dia\n",
              "restaurante                                               \n",
              "The Pub Burguer            18145098324  154.61  12126   91\n",
              "Pizzaria Di Duda            2676536349   63.00   2020   26\n",
              "Olimpo Burger House         4434139719   53.50   4040   30\n",
              "Geraldinos E Arquibaldos    3126922890   35.40   2021   25\n",
              "Restaurante Sabor Supremo   5668717495   32.00   4042   29\n",
              "Zeus Burger                 2291203258   26.40   2020   21\n",
              "Dom Burger                  2521274512   25.50   2020   21\n",
              "Sacolao Supremo             2831771911   16.00   2021   29\n",
              "Kisabor Delivery            2764182603    8.00   2021   11"
            ]
          },
          "metadata": {
            "tags": []
          },
          "execution_count": 8
        }
      ]
    },
    {
      "cell_type": "code",
      "metadata": {
        "colab": {
          "base_uri": "https://localhost:8080/"
        },
        "id": "Y4QgdZWoZWF5",
        "outputId": "bbffbb71-d353-4424-a79b-7ebb9213cfb0"
      },
      "source": [
        "#dias da semana em que mais peço\n",
        "dia = df.groupby(['dia da semana'])['valor'].sum().sort_values(ascending=False)\n",
        "dia"
      ],
      "execution_count": null,
      "outputs": [
        {
          "output_type": "execute_result",
          "data": {
            "text/plain": [
              "dia da semana\n",
              "Sunday      163.61\n",
              "Saturday    114.08\n",
              "Friday       70.32\n",
              "Monday       50.40\n",
              "Thursday     16.00\n",
              "Name: valor, dtype: float64"
            ]
          },
          "metadata": {
            "tags": []
          },
          "execution_count": 9
        }
      ]
    },
    {
      "cell_type": "code",
      "metadata": {
        "colab": {
          "base_uri": "https://localhost:8080/"
        },
        "id": "dJi6sdRAOl6S",
        "outputId": "8ab60ab5-6c5e-4840-f8d3-e7c53e3d1b05"
      },
      "source": [
        "dia.value_counts()"
      ],
      "execution_count": null,
      "outputs": [
        {
          "output_type": "execute_result",
          "data": {
            "text/plain": [
              "50.40     1\n",
              "163.61    1\n",
              "114.08    1\n",
              "70.32     1\n",
              "16.00     1\n",
              "Name: valor, dtype: int64"
            ]
          },
          "metadata": {
            "tags": []
          },
          "execution_count": 10
        }
      ]
    },
    {
      "cell_type": "code",
      "metadata": {
        "colab": {
          "base_uri": "https://localhost:8080/"
        },
        "id": "DQB2sTqAax5t",
        "outputId": "e5d746f4-b15d-4255-f9c5-4bb5045fa7f7"
      },
      "source": [
        "#Ano em que eu mais pedi\n",
        "ano = df.groupby(['ano'])['valor'].sum().sort_values(ascending=False)\n",
        "ano"
      ],
      "execution_count": null,
      "outputs": [
        {
          "output_type": "execute_result",
          "data": {
            "text/plain": [
              "ano\n",
              "2021    246.01\n",
              "2020    168.40\n",
              "Name: valor, dtype: float64"
            ]
          },
          "metadata": {
            "tags": []
          },
          "execution_count": 11
        }
      ]
    },
    {
      "cell_type": "code",
      "metadata": {
        "colab": {
          "base_uri": "https://localhost:8080/"
        },
        "id": "fHVAaymEa_mL",
        "outputId": "647734ff-30a3-4b0f-e0c1-ebd3a33051c2"
      },
      "source": [
        "#Mês em que eu mais pedi\n",
        "mes = df.groupby(['mes'])['valor'].sum().sort_values(ascending=False)\n",
        "mes"
      ],
      "execution_count": null,
      "outputs": [
        {
          "output_type": "execute_result",
          "data": {
            "text/plain": [
              "mes\n",
              "April        112.24\n",
              "December      63.00\n",
              "March         49.28\n",
              "February      44.49\n",
              "January       40.00\n",
              "October       29.50\n",
              "September     26.40\n",
              "November      25.50\n",
              "July          24.00\n",
              "Name: valor, dtype: float64"
            ]
          },
          "metadata": {
            "tags": []
          },
          "execution_count": 12
        }
      ]
    },
    {
      "cell_type": "code",
      "metadata": {
        "colab": {
          "base_uri": "https://localhost:8080/"
        },
        "id": "vTD5RtHEbeHP",
        "outputId": "09eec60f-b48c-4f86-c1ef-f5e7766b9163"
      },
      "source": [
        "#maior valor de pedido \n",
        "maior_pedido = df['valor'].sort_values(ascending=False)\n",
        "maior_pedido.head()"
      ],
      "execution_count": null,
      "outputs": [
        {
          "output_type": "execute_result",
          "data": {
            "text/plain": [
              "11    63.00\n",
              "9     35.40\n",
              "4     29.50\n",
              "14    28.54\n",
              "13    28.49\n",
              "Name: valor, dtype: float64"
            ]
          },
          "metadata": {
            "tags": []
          },
          "execution_count": 13
        }
      ]
    },
    {
      "cell_type": "code",
      "metadata": {
        "colab": {
          "base_uri": "https://localhost:8080/"
        },
        "id": "OsuB_6Occ_vl",
        "outputId": "ad3a4507-60d9-47dd-ec2a-6a3b573058ff"
      },
      "source": [
        "# N° de pedidos por restaurante\n",
        "n_pedidos = df.restaurante.value_counts()\n",
        "n_pedidos"
      ],
      "execution_count": null,
      "outputs": [
        {
          "output_type": "execute_result",
          "data": {
            "text/plain": [
              "The Pub Burguer              6\n",
              "Olimpo Burger House          2\n",
              "Restaurante Sabor Supremo    2\n",
              "Sacolao Supremo              1\n",
              "Kisabor Delivery             1\n",
              "Pizzaria Di Duda             1\n",
              "Geraldinos E Arquibaldos     1\n",
              "Zeus Burger                  1\n",
              "Dom Burger                   1\n",
              "Name: restaurante, dtype: int64"
            ]
          },
          "metadata": {
            "tags": []
          },
          "execution_count": 14
        }
      ]
    },
    {
      "cell_type": "code",
      "metadata": {
        "colab": {
          "base_uri": "https://localhost:8080/"
        },
        "id": "PfequPMsh26X",
        "outputId": "3d4c747f-94e1-4cbd-b0f6-c81e6df2225b"
      },
      "source": [
        "n_pedidos.value_counts()"
      ],
      "execution_count": null,
      "outputs": [
        {
          "output_type": "execute_result",
          "data": {
            "text/plain": [
              "1    6\n",
              "2    2\n",
              "6    1\n",
              "Name: restaurante, dtype: int64"
            ]
          },
          "metadata": {
            "tags": []
          },
          "execution_count": 15
        }
      ]
    },
    {
      "cell_type": "code",
      "metadata": {
        "colab": {
          "base_uri": "https://localhost:8080/"
        },
        "id": "iliyOQdvjBji",
        "outputId": "79ceeb10-8a44-4103-c84f-f2705bd810b0"
      },
      "source": [
        "rest = df['restaurante']=='The Pub Burguer'\n",
        "rest.value_counts()"
      ],
      "execution_count": null,
      "outputs": [
        {
          "output_type": "execute_result",
          "data": {
            "text/plain": [
              "False    10\n",
              "True      6\n",
              "Name: restaurante, dtype: int64"
            ]
          },
          "metadata": {
            "tags": []
          },
          "execution_count": 16
        }
      ]
    },
    {
      "cell_type": "code",
      "metadata": {
        "id": "o69sRTtkWxGb"
      },
      "source": [
        "df.to_csv('ifood_case.csv', index=0)"
      ],
      "execution_count": null,
      "outputs": []
    }
  ]
}