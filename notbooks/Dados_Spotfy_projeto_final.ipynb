{
  "nbformat": 4,
  "nbformat_minor": 2,
  "metadata": {
    "colab": {
      "name": "Dados Spotfy projeto final",
      "provenance": [],
      "collapsed_sections": []
    },
    "kernelspec": {
      "name": "python3",
      "display_name": "Python 3"
    },
    "language_info": {
      "name": "python"
    }
  },
  "cells": [
    {
      "cell_type": "markdown",
      "source": [
        "# **Limpezados dados**"
      ],
      "metadata": {
        "id": "9efDfDBa5hgk"
      }
    },
    {
      "cell_type": "code",
      "execution_count": null,
      "source": [
        "import pandas as pd\r\n",
        "import datetime as dt\r\n",
        "\r\n",
        "\r\n",
        "hist0 = pd.read_json('StreamingHistory0.json')\r\n",
        "hist1 = pd.read_json('StreamingHistory1.json')\r\n",
        "hist2 = pd.read_json('StreamingHistory2.json')\r\n",
        "\r\n"
      ],
      "outputs": [],
      "metadata": {
        "id": "fnCyFhKX_hWK"
      }
    },
    {
      "cell_type": "code",
      "execution_count": null,
      "source": [
        "#Concatenação dos arquivos StreamingHistory0, StreamingHistory1 e StreamingHistory2.\r\n",
        "frames=[hist0, hist1, hist2]\r\n",
        "df = pd.concat(frames)\r\n",
        "df.head()"
      ],
      "outputs": [
        {
          "output_type": "execute_result",
          "data": {
            "text/plain": [
              "            endTime  ... msPlayed\n",
              "0  2020-07-17 19:41  ...    67100\n",
              "1  2020-07-18 23:29  ...    15623\n",
              "2  2020-07-18 23:31  ...   155798\n",
              "3  2020-07-18 23:33  ...   129782\n",
              "4  2020-07-18 23:35  ...   102750\n",
              "\n",
              "[5 rows x 4 columns]"
            ],
            "text/html": [
              "<div>\n",
              "<style scoped>\n",
              "    .dataframe tbody tr th:only-of-type {\n",
              "        vertical-align: middle;\n",
              "    }\n",
              "\n",
              "    .dataframe tbody tr th {\n",
              "        vertical-align: top;\n",
              "    }\n",
              "\n",
              "    .dataframe thead th {\n",
              "        text-align: right;\n",
              "    }\n",
              "</style>\n",
              "<table border=\"1\" class=\"dataframe\">\n",
              "  <thead>\n",
              "    <tr style=\"text-align: right;\">\n",
              "      <th></th>\n",
              "      <th>endTime</th>\n",
              "      <th>artistName</th>\n",
              "      <th>trackName</th>\n",
              "      <th>msPlayed</th>\n",
              "    </tr>\n",
              "  </thead>\n",
              "  <tbody>\n",
              "    <tr>\n",
              "      <th>0</th>\n",
              "      <td>2020-07-17 19:41</td>\n",
              "      <td>Gloria Groove</td>\n",
              "      <td>SEDANAPO</td>\n",
              "      <td>67100</td>\n",
              "    </tr>\n",
              "    <tr>\n",
              "      <th>1</th>\n",
              "      <td>2020-07-18 23:29</td>\n",
              "      <td>Gloria Groove</td>\n",
              "      <td>SEDANAPO</td>\n",
              "      <td>15623</td>\n",
              "    </tr>\n",
              "    <tr>\n",
              "      <th>2</th>\n",
              "      <td>2020-07-18 23:31</td>\n",
              "      <td>Vitão</td>\n",
              "      <td>Flores</td>\n",
              "      <td>155798</td>\n",
              "    </tr>\n",
              "    <tr>\n",
              "      <th>3</th>\n",
              "      <td>2020-07-18 23:33</td>\n",
              "      <td>Luísa Sonza</td>\n",
              "      <td>BRABA</td>\n",
              "      <td>129782</td>\n",
              "    </tr>\n",
              "    <tr>\n",
              "      <th>4</th>\n",
              "      <td>2020-07-18 23:35</td>\n",
              "      <td>Jason Derulo</td>\n",
              "      <td>Swalla (feat. Nicki Minaj &amp; Ty Dolla $ign)</td>\n",
              "      <td>102750</td>\n",
              "    </tr>\n",
              "  </tbody>\n",
              "</table>\n",
              "</div>"
            ]
          },
          "metadata": {
            "tags": []
          },
          "execution_count": 46
        }
      ],
      "metadata": {
        "id": "AqWRD8X4ypFZ",
        "colab": {
          "base_uri": "https://localhost:8080/",
          "height": 204
        },
        "outputId": "e94b8053-90fa-4c06-a080-ed0a56a39f5c"
      }
    },
    {
      "cell_type": "code",
      "execution_count": null,
      "source": [
        "# Convertendo o tipo de dado e a coluna endTime e fragmentando-a\r\n",
        "df['endTime'] = pd.to_datetime(df['endTime'],format='%Y%m%d %H:%M')\r\n",
        "df['ano'] = df['endTime'].dt.year\r\n",
        "df['mes'] = df['endTime'].dt.month_name()\r\n",
        "df['dia'] = df['endTime'].dt.day\r\n",
        "df['dia da semana'] = df['endTime'].dt.day_name()\r\n",
        "df['hora do dia'] = df['endTime'].dt.hour\r\n",
        "df.head()"
      ],
      "outputs": [
        {
          "output_type": "execute_result",
          "data": {
            "text/plain": [
              "              endTime     artistName  ... dia da semana  hora do dia\n",
              "0 2020-07-17 19:41:00  Gloria Groove  ...        Friday           19\n",
              "1 2020-07-18 23:29:00  Gloria Groove  ...      Saturday           23\n",
              "2 2020-07-18 23:31:00          Vitão  ...      Saturday           23\n",
              "3 2020-07-18 23:33:00    Luísa Sonza  ...      Saturday           23\n",
              "4 2020-07-18 23:35:00   Jason Derulo  ...      Saturday           23\n",
              "\n",
              "[5 rows x 9 columns]"
            ],
            "text/html": [
              "<div>\n",
              "<style scoped>\n",
              "    .dataframe tbody tr th:only-of-type {\n",
              "        vertical-align: middle;\n",
              "    }\n",
              "\n",
              "    .dataframe tbody tr th {\n",
              "        vertical-align: top;\n",
              "    }\n",
              "\n",
              "    .dataframe thead th {\n",
              "        text-align: right;\n",
              "    }\n",
              "</style>\n",
              "<table border=\"1\" class=\"dataframe\">\n",
              "  <thead>\n",
              "    <tr style=\"text-align: right;\">\n",
              "      <th></th>\n",
              "      <th>endTime</th>\n",
              "      <th>artistName</th>\n",
              "      <th>trackName</th>\n",
              "      <th>msPlayed</th>\n",
              "      <th>ano</th>\n",
              "      <th>mes</th>\n",
              "      <th>dia</th>\n",
              "      <th>dia da semana</th>\n",
              "      <th>hora do dia</th>\n",
              "    </tr>\n",
              "  </thead>\n",
              "  <tbody>\n",
              "    <tr>\n",
              "      <th>0</th>\n",
              "      <td>2020-07-17 19:41:00</td>\n",
              "      <td>Gloria Groove</td>\n",
              "      <td>SEDANAPO</td>\n",
              "      <td>67100</td>\n",
              "      <td>2020</td>\n",
              "      <td>July</td>\n",
              "      <td>17</td>\n",
              "      <td>Friday</td>\n",
              "      <td>19</td>\n",
              "    </tr>\n",
              "    <tr>\n",
              "      <th>1</th>\n",
              "      <td>2020-07-18 23:29:00</td>\n",
              "      <td>Gloria Groove</td>\n",
              "      <td>SEDANAPO</td>\n",
              "      <td>15623</td>\n",
              "      <td>2020</td>\n",
              "      <td>July</td>\n",
              "      <td>18</td>\n",
              "      <td>Saturday</td>\n",
              "      <td>23</td>\n",
              "    </tr>\n",
              "    <tr>\n",
              "      <th>2</th>\n",
              "      <td>2020-07-18 23:31:00</td>\n",
              "      <td>Vitão</td>\n",
              "      <td>Flores</td>\n",
              "      <td>155798</td>\n",
              "      <td>2020</td>\n",
              "      <td>July</td>\n",
              "      <td>18</td>\n",
              "      <td>Saturday</td>\n",
              "      <td>23</td>\n",
              "    </tr>\n",
              "    <tr>\n",
              "      <th>3</th>\n",
              "      <td>2020-07-18 23:33:00</td>\n",
              "      <td>Luísa Sonza</td>\n",
              "      <td>BRABA</td>\n",
              "      <td>129782</td>\n",
              "      <td>2020</td>\n",
              "      <td>July</td>\n",
              "      <td>18</td>\n",
              "      <td>Saturday</td>\n",
              "      <td>23</td>\n",
              "    </tr>\n",
              "    <tr>\n",
              "      <th>4</th>\n",
              "      <td>2020-07-18 23:35:00</td>\n",
              "      <td>Jason Derulo</td>\n",
              "      <td>Swalla (feat. Nicki Minaj &amp; Ty Dolla $ign)</td>\n",
              "      <td>102750</td>\n",
              "      <td>2020</td>\n",
              "      <td>July</td>\n",
              "      <td>18</td>\n",
              "      <td>Saturday</td>\n",
              "      <td>23</td>\n",
              "    </tr>\n",
              "  </tbody>\n",
              "</table>\n",
              "</div>"
            ]
          },
          "metadata": {
            "tags": []
          },
          "execution_count": 47
        }
      ],
      "metadata": {
        "colab": {
          "base_uri": "https://localhost:8080/",
          "height": 204
        },
        "id": "FTamWK7gpewD",
        "outputId": "4e4aa9a8-25d9-4103-9b34-df0de6f956bb"
      }
    },
    {
      "cell_type": "code",
      "execution_count": null,
      "source": [],
      "outputs": [],
      "metadata": {
        "id": "UP_vw-XIpHSS"
      }
    },
    {
      "cell_type": "code",
      "execution_count": null,
      "source": [
        "# informações sobre os tipos de dados por colunas \n",
        "df.info()"
      ],
      "outputs": [
        {
          "output_type": "stream",
          "name": "stdout",
          "text": [
            "<class 'pandas.core.frame.DataFrame'>\n",
            "Int64Index: 21530 entries, 0 to 1529\n",
            "Data columns (total 9 columns):\n",
            " #   Column         Non-Null Count  Dtype         \n",
            "---  ------         --------------  -----         \n",
            " 0   endTime        21530 non-null  datetime64[ns]\n",
            " 1   artistName     21530 non-null  object        \n",
            " 2   trackName      21530 non-null  object        \n",
            " 3   msPlayed       21530 non-null  int64         \n",
            " 4   ano            21530 non-null  int64         \n",
            " 5   mes            21530 non-null  object        \n",
            " 6   dia            21530 non-null  int64         \n",
            " 7   dia da semana  21530 non-null  object        \n",
            " 8   hora do dia    21530 non-null  int64         \n",
            "dtypes: datetime64[ns](1), int64(4), object(4)\n",
            "memory usage: 1.6+ MB\n"
          ]
        }
      ],
      "metadata": {
        "colab": {
          "base_uri": "https://localhost:8080/"
        },
        "id": "_hHMcb-FGVD3",
        "outputId": "6a6fe3ad-d1ad-4216-d182-f660f3aec789"
      }
    },
    {
      "cell_type": "code",
      "execution_count": null,
      "source": [
        "df.head()"
      ],
      "outputs": [
        {
          "output_type": "execute_result",
          "data": {
            "text/plain": [
              "              endTime     artistName  ... dia da semana  hora do dia\n",
              "0 2020-07-17 19:41:00  Gloria Groove  ...        Friday           19\n",
              "1 2020-07-18 23:29:00  Gloria Groove  ...      Saturday           23\n",
              "2 2020-07-18 23:31:00          Vitão  ...      Saturday           23\n",
              "3 2020-07-18 23:33:00    Luísa Sonza  ...      Saturday           23\n",
              "4 2020-07-18 23:35:00   Jason Derulo  ...      Saturday           23\n",
              "\n",
              "[5 rows x 9 columns]"
            ],
            "text/html": [
              "<div>\n",
              "<style scoped>\n",
              "    .dataframe tbody tr th:only-of-type {\n",
              "        vertical-align: middle;\n",
              "    }\n",
              "\n",
              "    .dataframe tbody tr th {\n",
              "        vertical-align: top;\n",
              "    }\n",
              "\n",
              "    .dataframe thead th {\n",
              "        text-align: right;\n",
              "    }\n",
              "</style>\n",
              "<table border=\"1\" class=\"dataframe\">\n",
              "  <thead>\n",
              "    <tr style=\"text-align: right;\">\n",
              "      <th></th>\n",
              "      <th>endTime</th>\n",
              "      <th>artistName</th>\n",
              "      <th>trackName</th>\n",
              "      <th>msPlayed</th>\n",
              "      <th>ano</th>\n",
              "      <th>mes</th>\n",
              "      <th>dia</th>\n",
              "      <th>dia da semana</th>\n",
              "      <th>hora do dia</th>\n",
              "    </tr>\n",
              "  </thead>\n",
              "  <tbody>\n",
              "    <tr>\n",
              "      <th>0</th>\n",
              "      <td>2020-07-17 19:41:00</td>\n",
              "      <td>Gloria Groove</td>\n",
              "      <td>SEDANAPO</td>\n",
              "      <td>67100</td>\n",
              "      <td>2020</td>\n",
              "      <td>July</td>\n",
              "      <td>17</td>\n",
              "      <td>Friday</td>\n",
              "      <td>19</td>\n",
              "    </tr>\n",
              "    <tr>\n",
              "      <th>1</th>\n",
              "      <td>2020-07-18 23:29:00</td>\n",
              "      <td>Gloria Groove</td>\n",
              "      <td>SEDANAPO</td>\n",
              "      <td>15623</td>\n",
              "      <td>2020</td>\n",
              "      <td>July</td>\n",
              "      <td>18</td>\n",
              "      <td>Saturday</td>\n",
              "      <td>23</td>\n",
              "    </tr>\n",
              "    <tr>\n",
              "      <th>2</th>\n",
              "      <td>2020-07-18 23:31:00</td>\n",
              "      <td>Vitão</td>\n",
              "      <td>Flores</td>\n",
              "      <td>155798</td>\n",
              "      <td>2020</td>\n",
              "      <td>July</td>\n",
              "      <td>18</td>\n",
              "      <td>Saturday</td>\n",
              "      <td>23</td>\n",
              "    </tr>\n",
              "    <tr>\n",
              "      <th>3</th>\n",
              "      <td>2020-07-18 23:33:00</td>\n",
              "      <td>Luísa Sonza</td>\n",
              "      <td>BRABA</td>\n",
              "      <td>129782</td>\n",
              "      <td>2020</td>\n",
              "      <td>July</td>\n",
              "      <td>18</td>\n",
              "      <td>Saturday</td>\n",
              "      <td>23</td>\n",
              "    </tr>\n",
              "    <tr>\n",
              "      <th>4</th>\n",
              "      <td>2020-07-18 23:35:00</td>\n",
              "      <td>Jason Derulo</td>\n",
              "      <td>Swalla (feat. Nicki Minaj &amp; Ty Dolla $ign)</td>\n",
              "      <td>102750</td>\n",
              "      <td>2020</td>\n",
              "      <td>July</td>\n",
              "      <td>18</td>\n",
              "      <td>Saturday</td>\n",
              "      <td>23</td>\n",
              "    </tr>\n",
              "  </tbody>\n",
              "</table>\n",
              "</div>"
            ]
          },
          "metadata": {
            "tags": []
          },
          "execution_count": 49
        }
      ],
      "metadata": {
        "colab": {
          "base_uri": "https://localhost:8080/",
          "height": 204
        },
        "id": "pSubMBpjstTN",
        "outputId": "6e57d085-a595-4328-de4e-499fe76be47b"
      }
    },
    {
      "cell_type": "code",
      "execution_count": null,
      "source": [
        "df.rename(columns={'artistName':'nome do artista','trackName':'nome da musica'}, inplace=True)\n",
        "df.head()"
      ],
      "outputs": [
        {
          "output_type": "execute_result",
          "data": {
            "text/plain": [
              "              endTime nome do artista  ... dia da semana  hora do dia\n",
              "0 2020-07-17 19:41:00   Gloria Groove  ...        Friday           19\n",
              "1 2020-07-18 23:29:00   Gloria Groove  ...      Saturday           23\n",
              "2 2020-07-18 23:31:00           Vitão  ...      Saturday           23\n",
              "3 2020-07-18 23:33:00     Luísa Sonza  ...      Saturday           23\n",
              "4 2020-07-18 23:35:00    Jason Derulo  ...      Saturday           23\n",
              "\n",
              "[5 rows x 9 columns]"
            ],
            "text/html": [
              "<div>\n",
              "<style scoped>\n",
              "    .dataframe tbody tr th:only-of-type {\n",
              "        vertical-align: middle;\n",
              "    }\n",
              "\n",
              "    .dataframe tbody tr th {\n",
              "        vertical-align: top;\n",
              "    }\n",
              "\n",
              "    .dataframe thead th {\n",
              "        text-align: right;\n",
              "    }\n",
              "</style>\n",
              "<table border=\"1\" class=\"dataframe\">\n",
              "  <thead>\n",
              "    <tr style=\"text-align: right;\">\n",
              "      <th></th>\n",
              "      <th>endTime</th>\n",
              "      <th>nome do artista</th>\n",
              "      <th>nome da musica</th>\n",
              "      <th>msPlayed</th>\n",
              "      <th>ano</th>\n",
              "      <th>mes</th>\n",
              "      <th>dia</th>\n",
              "      <th>dia da semana</th>\n",
              "      <th>hora do dia</th>\n",
              "    </tr>\n",
              "  </thead>\n",
              "  <tbody>\n",
              "    <tr>\n",
              "      <th>0</th>\n",
              "      <td>2020-07-17 19:41:00</td>\n",
              "      <td>Gloria Groove</td>\n",
              "      <td>SEDANAPO</td>\n",
              "      <td>67100</td>\n",
              "      <td>2020</td>\n",
              "      <td>July</td>\n",
              "      <td>17</td>\n",
              "      <td>Friday</td>\n",
              "      <td>19</td>\n",
              "    </tr>\n",
              "    <tr>\n",
              "      <th>1</th>\n",
              "      <td>2020-07-18 23:29:00</td>\n",
              "      <td>Gloria Groove</td>\n",
              "      <td>SEDANAPO</td>\n",
              "      <td>15623</td>\n",
              "      <td>2020</td>\n",
              "      <td>July</td>\n",
              "      <td>18</td>\n",
              "      <td>Saturday</td>\n",
              "      <td>23</td>\n",
              "    </tr>\n",
              "    <tr>\n",
              "      <th>2</th>\n",
              "      <td>2020-07-18 23:31:00</td>\n",
              "      <td>Vitão</td>\n",
              "      <td>Flores</td>\n",
              "      <td>155798</td>\n",
              "      <td>2020</td>\n",
              "      <td>July</td>\n",
              "      <td>18</td>\n",
              "      <td>Saturday</td>\n",
              "      <td>23</td>\n",
              "    </tr>\n",
              "    <tr>\n",
              "      <th>3</th>\n",
              "      <td>2020-07-18 23:33:00</td>\n",
              "      <td>Luísa Sonza</td>\n",
              "      <td>BRABA</td>\n",
              "      <td>129782</td>\n",
              "      <td>2020</td>\n",
              "      <td>July</td>\n",
              "      <td>18</td>\n",
              "      <td>Saturday</td>\n",
              "      <td>23</td>\n",
              "    </tr>\n",
              "    <tr>\n",
              "      <th>4</th>\n",
              "      <td>2020-07-18 23:35:00</td>\n",
              "      <td>Jason Derulo</td>\n",
              "      <td>Swalla (feat. Nicki Minaj &amp; Ty Dolla $ign)</td>\n",
              "      <td>102750</td>\n",
              "      <td>2020</td>\n",
              "      <td>July</td>\n",
              "      <td>18</td>\n",
              "      <td>Saturday</td>\n",
              "      <td>23</td>\n",
              "    </tr>\n",
              "  </tbody>\n",
              "</table>\n",
              "</div>"
            ]
          },
          "metadata": {
            "tags": []
          },
          "execution_count": 50
        }
      ],
      "metadata": {
        "colab": {
          "base_uri": "https://localhost:8080/",
          "height": 306
        },
        "id": "sFbZDf2Ymiac",
        "outputId": "10caa8d6-3d69-45b2-884b-c6c16d370f6c"
      }
    },
    {
      "cell_type": "code",
      "execution_count": null,
      "source": [],
      "outputs": [],
      "metadata": {
        "id": "uC7D_unIQthA"
      }
    },
    {
      "cell_type": "markdown",
      "source": [
        "# **Analise exploratória**"
      ],
      "metadata": {
        "id": "-hw4YnW95PWE"
      }
    },
    {
      "cell_type": "code",
      "execution_count": null,
      "source": [
        "#Top 5 artistas mais ouvidos (minuto)\n",
        "top_5_artistas = df.groupby(['nome do artista'])['msPlayed'].sum().sort_values(ascending=False)\n",
        "top_5_artistas.head()"
      ],
      "outputs": [
        {
          "output_type": "execute_result",
          "data": {
            "text/plain": [
              "nome do artista\n",
              "Beyoncé            71751881\n",
              "Sia                52880400\n",
              "Destiny's Child    47854739\n",
              "Amir               46737733\n",
              "IZA                46011397\n",
              "Name: msPlayed, dtype: int64"
            ]
          },
          "metadata": {
            "tags": []
          },
          "execution_count": 51
        }
      ],
      "metadata": {
        "colab": {
          "base_uri": "https://localhost:8080/"
        },
        "id": "qHr1Jn5al4RV",
        "outputId": "9ac19b36-f71d-43ac-db71-37cbf8e6fe68"
      }
    },
    {
      "cell_type": "code",
      "execution_count": null,
      "source": [
        "#Top 5 músicas mais ouvidas (minuto)\n",
        "top_5_musicas = df.groupby(['nome da musica'])['msPlayed'].sum().sort_values(ascending=False)\n",
        "top_5_musicas.head()"
      ],
      "outputs": [
        {
          "output_type": "execute_result",
          "data": {
            "text/plain": [
              "nome da musica\n",
              "BROWN SKIN GIRL                                   20089455\n",
              "Hostage                                           16680898\n",
              "Into the Unknown - Panic! At The Disco Version    15708901\n",
              "J'ai cherché                                      13760296\n",
              "Latch - Acoustic                                  12860987\n",
              "Name: msPlayed, dtype: int64"
            ]
          },
          "metadata": {
            "tags": []
          },
          "execution_count": 52
        }
      ],
      "metadata": {
        "id": "Hcdp1YPq8nLf",
        "colab": {
          "base_uri": "https://localhost:8080/"
        },
        "outputId": "a5aab77d-3a30-4751-b863-712dba3a8f87"
      }
    },
    {
      "cell_type": "code",
      "execution_count": null,
      "source": [
        "# Tempo total minutos \n",
        "total_min = df['msPlayed'].sum()\n",
        "total_min"
      ],
      "outputs": [
        {
          "output_type": "execute_result",
          "data": {
            "text/plain": [
              "1235917906"
            ]
          },
          "metadata": {
            "tags": []
          },
          "execution_count": 53
        }
      ],
      "metadata": {
        "id": "57HUYUeoCXgb",
        "colab": {
          "base_uri": "https://localhost:8080/"
        },
        "outputId": "4e418d38-2d2d-4bc4-b584-165f7aa77ef0"
      }
    },
    {
      "cell_type": "code",
      "execution_count": null,
      "source": [
        "# Tempo total horas \n",
        "total_hora = df['msPlayed'].sum()/60\n",
        "total_hora"
      ],
      "outputs": [
        {
          "output_type": "execute_result",
          "data": {
            "text/plain": [
              "20598631.766666666"
            ]
          },
          "metadata": {
            "tags": []
          },
          "execution_count": 54
        }
      ],
      "metadata": {
        "colab": {
          "base_uri": "https://localhost:8080/"
        },
        "id": "Pw42s8v2lTSI",
        "outputId": "dcf89481-fe6f-4db9-af37-05cf1c16a14a"
      }
    },
    {
      "cell_type": "code",
      "execution_count": null,
      "source": [
        "# Tempo total em dias \n",
        "total_dia = (df['msPlayed'].sum()/60)/24\n",
        "total_dia"
      ],
      "outputs": [
        {
          "output_type": "execute_result",
          "data": {
            "text/plain": [
              "858276.323611111"
            ]
          },
          "metadata": {
            "tags": []
          },
          "execution_count": 55
        }
      ],
      "metadata": {
        "colab": {
          "base_uri": "https://localhost:8080/"
        },
        "id": "NZS-RftmlwLb",
        "outputId": "1f4c3d51-0ae4-400f-94f4-2df180d4ac8c"
      }
    },
    {
      "cell_type": "code",
      "execution_count": null,
      "source": [
        "# Dias em que mais ouvi música\n",
        "dias = df.groupby(['dia da semana'])\n",
        "dias.sum().head()"
      ],
      "outputs": [
        {
          "output_type": "execute_result",
          "data": {
            "text/plain": [
              "                msPlayed      ano    dia  hora do dia\n",
              "dia da semana                                        \n",
              "Friday         216029781  7843051  66197        38135\n",
              "Monday         158994049  5495632  40232        27579\n",
              "Saturday        66213023  3002556  26168        14936\n",
              "Sunday          58497376  2085113  16641        10638\n",
              "Thursday       249352923  8342882  63581        30572"
            ],
            "text/html": [
              "<div>\n",
              "<style scoped>\n",
              "    .dataframe tbody tr th:only-of-type {\n",
              "        vertical-align: middle;\n",
              "    }\n",
              "\n",
              "    .dataframe tbody tr th {\n",
              "        vertical-align: top;\n",
              "    }\n",
              "\n",
              "    .dataframe thead th {\n",
              "        text-align: right;\n",
              "    }\n",
              "</style>\n",
              "<table border=\"1\" class=\"dataframe\">\n",
              "  <thead>\n",
              "    <tr style=\"text-align: right;\">\n",
              "      <th></th>\n",
              "      <th>msPlayed</th>\n",
              "      <th>ano</th>\n",
              "      <th>dia</th>\n",
              "      <th>hora do dia</th>\n",
              "    </tr>\n",
              "    <tr>\n",
              "      <th>dia da semana</th>\n",
              "      <th></th>\n",
              "      <th></th>\n",
              "      <th></th>\n",
              "      <th></th>\n",
              "    </tr>\n",
              "  </thead>\n",
              "  <tbody>\n",
              "    <tr>\n",
              "      <th>Friday</th>\n",
              "      <td>216029781</td>\n",
              "      <td>7843051</td>\n",
              "      <td>66197</td>\n",
              "      <td>38135</td>\n",
              "    </tr>\n",
              "    <tr>\n",
              "      <th>Monday</th>\n",
              "      <td>158994049</td>\n",
              "      <td>5495632</td>\n",
              "      <td>40232</td>\n",
              "      <td>27579</td>\n",
              "    </tr>\n",
              "    <tr>\n",
              "      <th>Saturday</th>\n",
              "      <td>66213023</td>\n",
              "      <td>3002556</td>\n",
              "      <td>26168</td>\n",
              "      <td>14936</td>\n",
              "    </tr>\n",
              "    <tr>\n",
              "      <th>Sunday</th>\n",
              "      <td>58497376</td>\n",
              "      <td>2085113</td>\n",
              "      <td>16641</td>\n",
              "      <td>10638</td>\n",
              "    </tr>\n",
              "    <tr>\n",
              "      <th>Thursday</th>\n",
              "      <td>249352923</td>\n",
              "      <td>8342882</td>\n",
              "      <td>63581</td>\n",
              "      <td>30572</td>\n",
              "    </tr>\n",
              "  </tbody>\n",
              "</table>\n",
              "</div>"
            ]
          },
          "metadata": {
            "tags": []
          },
          "execution_count": 56
        }
      ],
      "metadata": {
        "id": "1vw5y7rXq4TV",
        "colab": {
          "base_uri": "https://localhost:8080/",
          "height": 235
        },
        "outputId": "a94f08ca-e0bd-470f-f44d-7af764d63d3c"
      }
    },
    {
      "cell_type": "code",
      "execution_count": null,
      "source": [
        "# ano em que mais ouvi música\n",
        "ano = df.groupby(['ano'])['msPlayed'].sum().sort_values(ascending=False)\n",
        "ano.head()"
      ],
      "outputs": [
        {
          "output_type": "execute_result",
          "data": {
            "text/plain": [
              "ano\n",
              "2020    805382617\n",
              "2021    430535289\n",
              "Name: msPlayed, dtype: int64"
            ]
          },
          "metadata": {
            "tags": []
          },
          "execution_count": 57
        }
      ],
      "metadata": {
        "colab": {
          "base_uri": "https://localhost:8080/"
        },
        "id": "ZscqZS_UoKvz",
        "outputId": "ce943c9e-ebf5-4e9d-99a2-36b6ff83bb60"
      }
    },
    {
      "cell_type": "code",
      "execution_count": null,
      "source": [
        "mes = df.groupby(['mes'])['msPlayed'].sum().sort_values(ascending=False)\n",
        "mes.head()"
      ],
      "outputs": [
        {
          "output_type": "execute_result",
          "data": {
            "text/plain": [
              "mes\n",
              "November     179203727\n",
              "December     168044303\n",
              "September    167892306\n",
              "October      131590614\n",
              "June         112490415\n",
              "Name: msPlayed, dtype: int64"
            ]
          },
          "metadata": {
            "tags": []
          },
          "execution_count": 58
        }
      ],
      "metadata": {
        "colab": {
          "base_uri": "https://localhost:8080/"
        },
        "id": "RAXvOgUuoL3v",
        "outputId": "267c6b9c-b545-44ce-c245-6dab048829bb"
      }
    },
    {
      "cell_type": "code",
      "execution_count": null,
      "source": [
        "#Musicas em que apertei o play mais vezes\n",
        "mais_tocadas = df['nome da musica'].value_counts(ascending=False)\n",
        "mais_tocadas.head(20)"
      ],
      "outputs": [
        {
          "output_type": "execute_result",
          "data": {
            "text/plain": [
              "Ice Cream (with Selena Gomez)                     143\n",
              "Woman Like Me (feat. Nicki Minaj)                 130\n",
              "Hostage                                           127\n",
              "Into the Unknown - Panic! At The Disco Version    125\n",
              "Desce Pro Play (PA PA PA)                         123\n",
              "J'ai cherché                                      122\n",
              "Bet You Wanna (feat. Cardi B)                     121\n",
              "Fire Meet Gasoline                                118\n",
              "Kill This Love                                    115\n",
              "Who You Are                                       115\n",
              "BROWN SKIN GIRL                                   114\n",
              "Never Enough                                      111\n",
              "Elastic Heart                                     109\n",
              "Countdown                                         109\n",
              "A Whole New World                                 108\n",
              "Shallow                                           106\n",
              "The Other Side                                    106\n",
              "Legendary                                         104\n",
              "Meu talismã                                       104\n",
              "Black Magic                                       102\n",
              "Name: nome da musica, dtype: int64"
            ]
          },
          "metadata": {
            "tags": []
          },
          "execution_count": 59
        }
      ],
      "metadata": {
        "colab": {
          "base_uri": "https://localhost:8080/"
        },
        "id": "8rd4YMJzljo_",
        "outputId": "736376c6-1cb2-4b05-a285-76b11512dec5"
      }
    },
    {
      "cell_type": "code",
      "execution_count": null,
      "source": [
        "artistas = df['nome do artista'].value_counts(ascending=False)\n",
        "artistas"
      ],
      "outputs": [
        {
          "output_type": "execute_result",
          "data": {
            "text/plain": [
              "Beyoncé               870\n",
              "IZA                   561\n",
              "Sia                   524\n",
              "Rihanna               521\n",
              "Amir                  489\n",
              "                     ... \n",
              "Niara                   1\n",
              "Brett Eldredge          1\n",
              "X Ambassadors           1\n",
              "Myrella Nascimento      1\n",
              "Hoje Tem Podcast        1\n",
              "Name: nome do artista, Length: 1369, dtype: int64"
            ]
          },
          "metadata": {
            "tags": []
          },
          "execution_count": 60
        }
      ],
      "metadata": {
        "colab": {
          "base_uri": "https://localhost:8080/"
        },
        "id": "rXa8U4m6pMtE",
        "outputId": "86c76042-4296-4536-ab80-9c0cd080fc5d"
      }
    },
    {
      "cell_type": "code",
      "execution_count": null,
      "source": [
        "df.head()"
      ],
      "outputs": [
        {
          "output_type": "execute_result",
          "data": {
            "text/plain": [
              "              endTime nome do artista  ... dia da semana  hora do dia\n",
              "0 2020-07-17 19:41:00   Gloria Groove  ...        Friday           19\n",
              "1 2020-07-18 23:29:00   Gloria Groove  ...      Saturday           23\n",
              "2 2020-07-18 23:31:00           Vitão  ...      Saturday           23\n",
              "3 2020-07-18 23:33:00     Luísa Sonza  ...      Saturday           23\n",
              "4 2020-07-18 23:35:00    Jason Derulo  ...      Saturday           23\n",
              "\n",
              "[5 rows x 9 columns]"
            ],
            "text/html": [
              "<div>\n",
              "<style scoped>\n",
              "    .dataframe tbody tr th:only-of-type {\n",
              "        vertical-align: middle;\n",
              "    }\n",
              "\n",
              "    .dataframe tbody tr th {\n",
              "        vertical-align: top;\n",
              "    }\n",
              "\n",
              "    .dataframe thead th {\n",
              "        text-align: right;\n",
              "    }\n",
              "</style>\n",
              "<table border=\"1\" class=\"dataframe\">\n",
              "  <thead>\n",
              "    <tr style=\"text-align: right;\">\n",
              "      <th></th>\n",
              "      <th>endTime</th>\n",
              "      <th>nome do artista</th>\n",
              "      <th>nome da musica</th>\n",
              "      <th>msPlayed</th>\n",
              "      <th>ano</th>\n",
              "      <th>mes</th>\n",
              "      <th>dia</th>\n",
              "      <th>dia da semana</th>\n",
              "      <th>hora do dia</th>\n",
              "    </tr>\n",
              "  </thead>\n",
              "  <tbody>\n",
              "    <tr>\n",
              "      <th>0</th>\n",
              "      <td>2020-07-17 19:41:00</td>\n",
              "      <td>Gloria Groove</td>\n",
              "      <td>SEDANAPO</td>\n",
              "      <td>67100</td>\n",
              "      <td>2020</td>\n",
              "      <td>July</td>\n",
              "      <td>17</td>\n",
              "      <td>Friday</td>\n",
              "      <td>19</td>\n",
              "    </tr>\n",
              "    <tr>\n",
              "      <th>1</th>\n",
              "      <td>2020-07-18 23:29:00</td>\n",
              "      <td>Gloria Groove</td>\n",
              "      <td>SEDANAPO</td>\n",
              "      <td>15623</td>\n",
              "      <td>2020</td>\n",
              "      <td>July</td>\n",
              "      <td>18</td>\n",
              "      <td>Saturday</td>\n",
              "      <td>23</td>\n",
              "    </tr>\n",
              "    <tr>\n",
              "      <th>2</th>\n",
              "      <td>2020-07-18 23:31:00</td>\n",
              "      <td>Vitão</td>\n",
              "      <td>Flores</td>\n",
              "      <td>155798</td>\n",
              "      <td>2020</td>\n",
              "      <td>July</td>\n",
              "      <td>18</td>\n",
              "      <td>Saturday</td>\n",
              "      <td>23</td>\n",
              "    </tr>\n",
              "    <tr>\n",
              "      <th>3</th>\n",
              "      <td>2020-07-18 23:33:00</td>\n",
              "      <td>Luísa Sonza</td>\n",
              "      <td>BRABA</td>\n",
              "      <td>129782</td>\n",
              "      <td>2020</td>\n",
              "      <td>July</td>\n",
              "      <td>18</td>\n",
              "      <td>Saturday</td>\n",
              "      <td>23</td>\n",
              "    </tr>\n",
              "    <tr>\n",
              "      <th>4</th>\n",
              "      <td>2020-07-18 23:35:00</td>\n",
              "      <td>Jason Derulo</td>\n",
              "      <td>Swalla (feat. Nicki Minaj &amp; Ty Dolla $ign)</td>\n",
              "      <td>102750</td>\n",
              "      <td>2020</td>\n",
              "      <td>July</td>\n",
              "      <td>18</td>\n",
              "      <td>Saturday</td>\n",
              "      <td>23</td>\n",
              "    </tr>\n",
              "  </tbody>\n",
              "</table>\n",
              "</div>"
            ]
          },
          "metadata": {
            "tags": []
          },
          "execution_count": 61
        }
      ],
      "metadata": {
        "id": "pHUq3w7cwBGc",
        "colab": {
          "base_uri": "https://localhost:8080/",
          "height": 306
        },
        "outputId": "b2aecf1e-67a9-4895-f563-cf7833f82f12"
      }
    },
    {
      "cell_type": "code",
      "execution_count": null,
      "source": [
        "df.info()"
      ],
      "outputs": [
        {
          "output_type": "stream",
          "name": "stdout",
          "text": [
            "<class 'pandas.core.frame.DataFrame'>\n",
            "Int64Index: 21530 entries, 0 to 1529\n",
            "Data columns (total 9 columns):\n",
            " #   Column           Non-Null Count  Dtype         \n",
            "---  ------           --------------  -----         \n",
            " 0   endTime          21530 non-null  datetime64[ns]\n",
            " 1   nome do artista  21530 non-null  object        \n",
            " 2   nome da musica   21530 non-null  object        \n",
            " 3   msPlayed         21530 non-null  int64         \n",
            " 4   ano              21530 non-null  int64         \n",
            " 5   mes              21530 non-null  object        \n",
            " 6   dia              21530 non-null  int64         \n",
            " 7   dia da semana    21530 non-null  object        \n",
            " 8   hora do dia      21530 non-null  int64         \n",
            "dtypes: datetime64[ns](1), int64(4), object(4)\n",
            "memory usage: 1.6+ MB\n"
          ]
        }
      ],
      "metadata": {
        "colab": {
          "base_uri": "https://localhost:8080/"
        },
        "id": "ddz8RiySsQoS",
        "outputId": "21aeb3f3-3751-4b97-f0d3-9a923c200849"
      }
    },
    {
      "cell_type": "code",
      "execution_count": null,
      "source": [
        "df.to_csv('spotify_case.csv', index=0)"
      ],
      "outputs": [],
      "metadata": {
        "id": "ADZ7z-WRd505"
      }
    }
  ]
}