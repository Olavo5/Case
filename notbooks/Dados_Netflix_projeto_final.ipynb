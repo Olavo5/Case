{
  "nbformat": 4,
  "nbformat_minor": 2,
  "metadata": {
    "colab": {
      "name": "Dados Netflix projeto final",
      "provenance": []
    },
    "kernelspec": {
      "name": "python3",
      "display_name": "Python 3"
    },
    "language_info": {
      "name": "python"
    }
  },
  "cells": [
    {
      "cell_type": "markdown",
      "source": [
        "#**Limpeza dos dados**"
      ],
      "metadata": {
        "id": "FrFkujna5_yA"
      }
    },
    {
      "cell_type": "code",
      "execution_count": null,
      "source": [
        "import pandas as pd\r\n",
        "\r\n",
        "df = pd.read_csv('Arquivo')\r\n",
        "df.head()"
      ],
      "outputs": [
        {
          "output_type": "execute_result",
          "data": {
            "text/plain": [
              "  Profile Name           Start Time  ...  Latest Bookmark      Country\n",
              "0      Dimitri  2021-07-11 16:39:18  ...         00:22:15  BR (Brazil)\n",
              "1      Dimitri  2021-07-11 16:17:23  ...         00:22:20  BR (Brazil)\n",
              "2      Dimitri  2021-07-11 15:59:26  ...         00:22:36  BR (Brazil)\n",
              "3      Dimitri  2021-07-01 22:48:52  ...  Not latest view  BR (Brazil)\n",
              "4      Dimitri  2021-07-01 20:42:01  ...         01:15:43  BR (Brazil)\n",
              "\n",
              "[5 rows x 10 columns]"
            ],
            "text/html": [
              "<div>\n",
              "<style scoped>\n",
              "    .dataframe tbody tr th:only-of-type {\n",
              "        vertical-align: middle;\n",
              "    }\n",
              "\n",
              "    .dataframe tbody tr th {\n",
              "        vertical-align: top;\n",
              "    }\n",
              "\n",
              "    .dataframe thead th {\n",
              "        text-align: right;\n",
              "    }\n",
              "</style>\n",
              "<table border=\"1\" class=\"dataframe\">\n",
              "  <thead>\n",
              "    <tr style=\"text-align: right;\">\n",
              "      <th></th>\n",
              "      <th>Profile Name</th>\n",
              "      <th>Start Time</th>\n",
              "      <th>Duration</th>\n",
              "      <th>Attributes</th>\n",
              "      <th>Title</th>\n",
              "      <th>Supplemental Video Type</th>\n",
              "      <th>Device Type</th>\n",
              "      <th>Bookmark</th>\n",
              "      <th>Latest Bookmark</th>\n",
              "      <th>Country</th>\n",
              "    </tr>\n",
              "  </thead>\n",
              "  <tbody>\n",
              "    <tr>\n",
              "      <th>0</th>\n",
              "      <td>Dimitri</td>\n",
              "      <td>2021-07-11 16:39:18</td>\n",
              "      <td>00:22:55</td>\n",
              "      <td>Autoplayed: user action: User_Interaction;</td>\n",
              "      <td>Sam &amp; Cat: Temporada 2: #OsSuperDoidos (Episód...</td>\n",
              "      <td>NaN</td>\n",
              "      <td>MStar PureTurnkey51 Skyworth OEM2K Smart TV</td>\n",
              "      <td>00:22:15</td>\n",
              "      <td>00:22:15</td>\n",
              "      <td>BR (Brazil)</td>\n",
              "    </tr>\n",
              "    <tr>\n",
              "      <th>1</th>\n",
              "      <td>Dimitri</td>\n",
              "      <td>2021-07-11 16:17:23</td>\n",
              "      <td>00:21:32</td>\n",
              "      <td>Autoplayed: user action: User_Interaction;</td>\n",
              "      <td>Sam &amp; Cat: Temporada 2: #ConfusõesDePrimeiraCl...</td>\n",
              "      <td>NaN</td>\n",
              "      <td>MStar PureTurnkey51 Skyworth OEM2K Smart TV</td>\n",
              "      <td>00:22:20</td>\n",
              "      <td>00:22:20</td>\n",
              "      <td>BR (Brazil)</td>\n",
              "    </tr>\n",
              "    <tr>\n",
              "      <th>2</th>\n",
              "      <td>Dimitri</td>\n",
              "      <td>2021-07-11 15:59:26</td>\n",
              "      <td>00:17:28</td>\n",
              "      <td>Autoplayed: user action: User_Interaction;</td>\n",
              "      <td>Sam &amp; Cat: Temporada 2: #ODroneEOBebê (Episódi...</td>\n",
              "      <td>NaN</td>\n",
              "      <td>MStar PureTurnkey51 Skyworth OEM2K Smart TV</td>\n",
              "      <td>00:22:36</td>\n",
              "      <td>00:22:36</td>\n",
              "      <td>BR (Brazil)</td>\n",
              "    </tr>\n",
              "    <tr>\n",
              "      <th>3</th>\n",
              "      <td>Dimitri</td>\n",
              "      <td>2021-07-01 22:48:52</td>\n",
              "      <td>00:02:51</td>\n",
              "      <td>NaN</td>\n",
              "      <td>Sam &amp; Cat: Temporada 2: #ODroneEOBebê (Episódi...</td>\n",
              "      <td>NaN</td>\n",
              "      <td>Android DefaultWidevineL3Phone Android Phone</td>\n",
              "      <td>00:02:51</td>\n",
              "      <td>Not latest view</td>\n",
              "      <td>BR (Brazil)</td>\n",
              "    </tr>\n",
              "    <tr>\n",
              "      <th>4</th>\n",
              "      <td>Dimitri</td>\n",
              "      <td>2021-07-01 20:42:01</td>\n",
              "      <td>01:10:59</td>\n",
              "      <td>NaN</td>\n",
              "      <td>Karate Kid</td>\n",
              "      <td>NaN</td>\n",
              "      <td>Android DefaultWidevineL3Phone Android Phone</td>\n",
              "      <td>01:15:43</td>\n",
              "      <td>01:15:43</td>\n",
              "      <td>BR (Brazil)</td>\n",
              "    </tr>\n",
              "  </tbody>\n",
              "</table>\n",
              "</div>"
            ]
          },
          "metadata": {
            "tags": []
          },
          "execution_count": 416
        }
      ],
      "metadata": {
        "id": "Imo2o4VP_Q97",
        "colab": {
          "base_uri": "https://localhost:8080/",
          "height": 411
        },
        "outputId": "d9d12d39-16ce-4b54-d020-26bcbc528356"
      }
    },
    {
      "cell_type": "code",
      "execution_count": null,
      "source": [
        "#Averiguando os tipos de dados.\r\n",
        "df.info()"
      ],
      "outputs": [
        {
          "output_type": "stream",
          "name": "stdout",
          "text": [
            "<class 'pandas.core.frame.DataFrame'>\n",
            "RangeIndex: 380 entries, 0 to 379\n",
            "Data columns (total 10 columns):\n",
            " #   Column                   Non-Null Count  Dtype \n",
            "---  ------                   --------------  ----- \n",
            " 0   Profile Name             380 non-null    object\n",
            " 1   Start Time               380 non-null    object\n",
            " 2   Duration                 380 non-null    object\n",
            " 3   Attributes               180 non-null    object\n",
            " 4   Title                    380 non-null    object\n",
            " 5   Supplemental Video Type  257 non-null    object\n",
            " 6   Device Type              380 non-null    object\n",
            " 7   Bookmark                 380 non-null    object\n",
            " 8   Latest Bookmark          380 non-null    object\n",
            " 9   Country                  380 non-null    object\n",
            "dtypes: object(10)\n",
            "memory usage: 29.8+ KB\n"
          ]
        }
      ],
      "metadata": {
        "colab": {
          "base_uri": "https://localhost:8080/"
        },
        "id": "UWoEy2zmZ3me",
        "outputId": "94d20731-ce0a-4216-e71c-2b434179850f"
      }
    },
    {
      "cell_type": "code",
      "execution_count": null,
      "source": [
        "# Convertendo os tipos de dados das colunas start time.\r\n",
        "df['Start Time'] = pd.to_datetime(df['Start Time'],utc=True)\r\n",
        "df = df.set_index('Start Time')\r\n"
      ],
      "outputs": [],
      "metadata": {
        "id": "v23UQ_BZQhvL"
      }
    },
    {
      "cell_type": "code",
      "execution_count": null,
      "source": [
        "#mudando o nome e o tipo de dado para poder contabilizar \r\n",
        "df['duração em minuto'] = df['Duration'].str.split(':').apply(\r\n",
        "    lambda x: int(x[0]) * 60.0 + int(x[1]) + int(x[2]) / 60.0)"
      ],
      "outputs": [],
      "metadata": {
        "id": "zAzIFK6kBraI"
      }
    },
    {
      "cell_type": "code",
      "execution_count": null,
      "source": [
        "# Criando as colunas de duração(hora) e (min)\r\n",
        "df['duração em horas'] = df['duração em minuto']/60.0"
      ],
      "outputs": [],
      "metadata": {
        "id": "q30tLLUvzy08"
      }
    },
    {
      "cell_type": "code",
      "execution_count": null,
      "source": [
        "df.info()"
      ],
      "outputs": [
        {
          "output_type": "stream",
          "name": "stdout",
          "text": [
            "<class 'pandas.core.frame.DataFrame'>\n",
            "DatetimeIndex: 380 entries, 2021-07-11 16:39:18+00:00 to 2021-07-01 23:34:26+00:00\n",
            "Data columns (total 11 columns):\n",
            " #   Column                   Non-Null Count  Dtype  \n",
            "---  ------                   --------------  -----  \n",
            " 0   Profile Name             380 non-null    object \n",
            " 1   Duration                 380 non-null    object \n",
            " 2   Attributes               180 non-null    object \n",
            " 3   Title                    380 non-null    object \n",
            " 4   Supplemental Video Type  257 non-null    object \n",
            " 5   Device Type              380 non-null    object \n",
            " 6   Bookmark                 380 non-null    object \n",
            " 7   Latest Bookmark          380 non-null    object \n",
            " 8   Country                  380 non-null    object \n",
            " 9   duração em minuto        380 non-null    float64\n",
            " 10  duração em horas         380 non-null    float64\n",
            "dtypes: float64(2), object(9)\n",
            "memory usage: 35.6+ KB\n"
          ]
        }
      ],
      "metadata": {
        "colab": {
          "base_uri": "https://localhost:8080/"
        },
        "id": "Hvl1W3WSQiS1",
        "outputId": "e0cc53e3-e927-4226-af89-0228c9594af9"
      }
    },
    {
      "cell_type": "code",
      "execution_count": null,
      "source": [
        "df.head()"
      ],
      "outputs": [
        {
          "output_type": "execute_result",
          "data": {
            "text/plain": [
              "                          Profile Name  ... duração em horas\n",
              "Start Time                              ...                 \n",
              "2021-07-11 16:39:18+00:00      Dimitri  ...         0.381944\n",
              "2021-07-11 16:17:23+00:00      Dimitri  ...         0.358889\n",
              "2021-07-11 15:59:26+00:00      Dimitri  ...         0.291111\n",
              "2021-07-01 22:48:52+00:00      Dimitri  ...         0.047500\n",
              "2021-07-01 20:42:01+00:00      Dimitri  ...         1.183056\n",
              "\n",
              "[5 rows x 11 columns]"
            ],
            "text/html": [
              "<div>\n",
              "<style scoped>\n",
              "    .dataframe tbody tr th:only-of-type {\n",
              "        vertical-align: middle;\n",
              "    }\n",
              "\n",
              "    .dataframe tbody tr th {\n",
              "        vertical-align: top;\n",
              "    }\n",
              "\n",
              "    .dataframe thead th {\n",
              "        text-align: right;\n",
              "    }\n",
              "</style>\n",
              "<table border=\"1\" class=\"dataframe\">\n",
              "  <thead>\n",
              "    <tr style=\"text-align: right;\">\n",
              "      <th></th>\n",
              "      <th>Profile Name</th>\n",
              "      <th>Duration</th>\n",
              "      <th>Attributes</th>\n",
              "      <th>Title</th>\n",
              "      <th>Supplemental Video Type</th>\n",
              "      <th>Device Type</th>\n",
              "      <th>Bookmark</th>\n",
              "      <th>Latest Bookmark</th>\n",
              "      <th>Country</th>\n",
              "      <th>duração em minuto</th>\n",
              "      <th>duração em horas</th>\n",
              "    </tr>\n",
              "    <tr>\n",
              "      <th>Start Time</th>\n",
              "      <th></th>\n",
              "      <th></th>\n",
              "      <th></th>\n",
              "      <th></th>\n",
              "      <th></th>\n",
              "      <th></th>\n",
              "      <th></th>\n",
              "      <th></th>\n",
              "      <th></th>\n",
              "      <th></th>\n",
              "      <th></th>\n",
              "    </tr>\n",
              "  </thead>\n",
              "  <tbody>\n",
              "    <tr>\n",
              "      <th>2021-07-11 16:39:18+00:00</th>\n",
              "      <td>Dimitri</td>\n",
              "      <td>00:22:55</td>\n",
              "      <td>Autoplayed: user action: User_Interaction;</td>\n",
              "      <td>Sam &amp; Cat: Temporada 2: #OsSuperDoidos (Episód...</td>\n",
              "      <td>NaN</td>\n",
              "      <td>MStar PureTurnkey51 Skyworth OEM2K Smart TV</td>\n",
              "      <td>00:22:15</td>\n",
              "      <td>00:22:15</td>\n",
              "      <td>BR (Brazil)</td>\n",
              "      <td>22.916667</td>\n",
              "      <td>0.381944</td>\n",
              "    </tr>\n",
              "    <tr>\n",
              "      <th>2021-07-11 16:17:23+00:00</th>\n",
              "      <td>Dimitri</td>\n",
              "      <td>00:21:32</td>\n",
              "      <td>Autoplayed: user action: User_Interaction;</td>\n",
              "      <td>Sam &amp; Cat: Temporada 2: #ConfusõesDePrimeiraCl...</td>\n",
              "      <td>NaN</td>\n",
              "      <td>MStar PureTurnkey51 Skyworth OEM2K Smart TV</td>\n",
              "      <td>00:22:20</td>\n",
              "      <td>00:22:20</td>\n",
              "      <td>BR (Brazil)</td>\n",
              "      <td>21.533333</td>\n",
              "      <td>0.358889</td>\n",
              "    </tr>\n",
              "    <tr>\n",
              "      <th>2021-07-11 15:59:26+00:00</th>\n",
              "      <td>Dimitri</td>\n",
              "      <td>00:17:28</td>\n",
              "      <td>Autoplayed: user action: User_Interaction;</td>\n",
              "      <td>Sam &amp; Cat: Temporada 2: #ODroneEOBebê (Episódi...</td>\n",
              "      <td>NaN</td>\n",
              "      <td>MStar PureTurnkey51 Skyworth OEM2K Smart TV</td>\n",
              "      <td>00:22:36</td>\n",
              "      <td>00:22:36</td>\n",
              "      <td>BR (Brazil)</td>\n",
              "      <td>17.466667</td>\n",
              "      <td>0.291111</td>\n",
              "    </tr>\n",
              "    <tr>\n",
              "      <th>2021-07-01 22:48:52+00:00</th>\n",
              "      <td>Dimitri</td>\n",
              "      <td>00:02:51</td>\n",
              "      <td>NaN</td>\n",
              "      <td>Sam &amp; Cat: Temporada 2: #ODroneEOBebê (Episódi...</td>\n",
              "      <td>NaN</td>\n",
              "      <td>Android DefaultWidevineL3Phone Android Phone</td>\n",
              "      <td>00:02:51</td>\n",
              "      <td>Not latest view</td>\n",
              "      <td>BR (Brazil)</td>\n",
              "      <td>2.850000</td>\n",
              "      <td>0.047500</td>\n",
              "    </tr>\n",
              "    <tr>\n",
              "      <th>2021-07-01 20:42:01+00:00</th>\n",
              "      <td>Dimitri</td>\n",
              "      <td>01:10:59</td>\n",
              "      <td>NaN</td>\n",
              "      <td>Karate Kid</td>\n",
              "      <td>NaN</td>\n",
              "      <td>Android DefaultWidevineL3Phone Android Phone</td>\n",
              "      <td>01:15:43</td>\n",
              "      <td>01:15:43</td>\n",
              "      <td>BR (Brazil)</td>\n",
              "      <td>70.983333</td>\n",
              "      <td>1.183056</td>\n",
              "    </tr>\n",
              "  </tbody>\n",
              "</table>\n",
              "</div>"
            ]
          },
          "metadata": {
            "tags": []
          },
          "execution_count": 422
        }
      ],
      "metadata": {
        "colab": {
          "base_uri": "https://localhost:8080/",
          "height": 459
        },
        "id": "T7Ti1BQVee_t",
        "outputId": "1ea04828-5035-4f2e-984f-b5d3ffe3d298"
      }
    },
    {
      "cell_type": "code",
      "execution_count": null,
      "source": [
        "# Convertendo para o horário brasileiro\r\n",
        "df.index = df.index.tz_convert('America/Sao_Paulo')\r\n",
        "df = df.reset_index()\r\n"
      ],
      "outputs": [],
      "metadata": {
        "id": "1kdHaheRQiz-"
      }
    },
    {
      "cell_type": "code",
      "execution_count": null,
      "source": [
        "df.head()"
      ],
      "outputs": [
        {
          "output_type": "execute_result",
          "data": {
            "text/plain": [
              "                 Start Time Profile Name  ... duração em minuto duração em horas\n",
              "0 2021-07-11 13:39:18-03:00      Dimitri  ...         22.916667         0.381944\n",
              "1 2021-07-11 13:17:23-03:00      Dimitri  ...         21.533333         0.358889\n",
              "2 2021-07-11 12:59:26-03:00      Dimitri  ...         17.466667         0.291111\n",
              "3 2021-07-01 19:48:52-03:00      Dimitri  ...          2.850000         0.047500\n",
              "4 2021-07-01 17:42:01-03:00      Dimitri  ...         70.983333         1.183056\n",
              "\n",
              "[5 rows x 12 columns]"
            ],
            "text/html": [
              "<div>\n",
              "<style scoped>\n",
              "    .dataframe tbody tr th:only-of-type {\n",
              "        vertical-align: middle;\n",
              "    }\n",
              "\n",
              "    .dataframe tbody tr th {\n",
              "        vertical-align: top;\n",
              "    }\n",
              "\n",
              "    .dataframe thead th {\n",
              "        text-align: right;\n",
              "    }\n",
              "</style>\n",
              "<table border=\"1\" class=\"dataframe\">\n",
              "  <thead>\n",
              "    <tr style=\"text-align: right;\">\n",
              "      <th></th>\n",
              "      <th>Start Time</th>\n",
              "      <th>Profile Name</th>\n",
              "      <th>Duration</th>\n",
              "      <th>Attributes</th>\n",
              "      <th>Title</th>\n",
              "      <th>Supplemental Video Type</th>\n",
              "      <th>Device Type</th>\n",
              "      <th>Bookmark</th>\n",
              "      <th>Latest Bookmark</th>\n",
              "      <th>Country</th>\n",
              "      <th>duração em minuto</th>\n",
              "      <th>duração em horas</th>\n",
              "    </tr>\n",
              "  </thead>\n",
              "  <tbody>\n",
              "    <tr>\n",
              "      <th>0</th>\n",
              "      <td>2021-07-11 13:39:18-03:00</td>\n",
              "      <td>Dimitri</td>\n",
              "      <td>00:22:55</td>\n",
              "      <td>Autoplayed: user action: User_Interaction;</td>\n",
              "      <td>Sam &amp; Cat: Temporada 2: #OsSuperDoidos (Episód...</td>\n",
              "      <td>NaN</td>\n",
              "      <td>MStar PureTurnkey51 Skyworth OEM2K Smart TV</td>\n",
              "      <td>00:22:15</td>\n",
              "      <td>00:22:15</td>\n",
              "      <td>BR (Brazil)</td>\n",
              "      <td>22.916667</td>\n",
              "      <td>0.381944</td>\n",
              "    </tr>\n",
              "    <tr>\n",
              "      <th>1</th>\n",
              "      <td>2021-07-11 13:17:23-03:00</td>\n",
              "      <td>Dimitri</td>\n",
              "      <td>00:21:32</td>\n",
              "      <td>Autoplayed: user action: User_Interaction;</td>\n",
              "      <td>Sam &amp; Cat: Temporada 2: #ConfusõesDePrimeiraCl...</td>\n",
              "      <td>NaN</td>\n",
              "      <td>MStar PureTurnkey51 Skyworth OEM2K Smart TV</td>\n",
              "      <td>00:22:20</td>\n",
              "      <td>00:22:20</td>\n",
              "      <td>BR (Brazil)</td>\n",
              "      <td>21.533333</td>\n",
              "      <td>0.358889</td>\n",
              "    </tr>\n",
              "    <tr>\n",
              "      <th>2</th>\n",
              "      <td>2021-07-11 12:59:26-03:00</td>\n",
              "      <td>Dimitri</td>\n",
              "      <td>00:17:28</td>\n",
              "      <td>Autoplayed: user action: User_Interaction;</td>\n",
              "      <td>Sam &amp; Cat: Temporada 2: #ODroneEOBebê (Episódi...</td>\n",
              "      <td>NaN</td>\n",
              "      <td>MStar PureTurnkey51 Skyworth OEM2K Smart TV</td>\n",
              "      <td>00:22:36</td>\n",
              "      <td>00:22:36</td>\n",
              "      <td>BR (Brazil)</td>\n",
              "      <td>17.466667</td>\n",
              "      <td>0.291111</td>\n",
              "    </tr>\n",
              "    <tr>\n",
              "      <th>3</th>\n",
              "      <td>2021-07-01 19:48:52-03:00</td>\n",
              "      <td>Dimitri</td>\n",
              "      <td>00:02:51</td>\n",
              "      <td>NaN</td>\n",
              "      <td>Sam &amp; Cat: Temporada 2: #ODroneEOBebê (Episódi...</td>\n",
              "      <td>NaN</td>\n",
              "      <td>Android DefaultWidevineL3Phone Android Phone</td>\n",
              "      <td>00:02:51</td>\n",
              "      <td>Not latest view</td>\n",
              "      <td>BR (Brazil)</td>\n",
              "      <td>2.850000</td>\n",
              "      <td>0.047500</td>\n",
              "    </tr>\n",
              "    <tr>\n",
              "      <th>4</th>\n",
              "      <td>2021-07-01 17:42:01-03:00</td>\n",
              "      <td>Dimitri</td>\n",
              "      <td>01:10:59</td>\n",
              "      <td>NaN</td>\n",
              "      <td>Karate Kid</td>\n",
              "      <td>NaN</td>\n",
              "      <td>Android DefaultWidevineL3Phone Android Phone</td>\n",
              "      <td>01:15:43</td>\n",
              "      <td>01:15:43</td>\n",
              "      <td>BR (Brazil)</td>\n",
              "      <td>70.983333</td>\n",
              "      <td>1.183056</td>\n",
              "    </tr>\n",
              "  </tbody>\n",
              "</table>\n",
              "</div>"
            ]
          },
          "metadata": {
            "tags": []
          },
          "execution_count": 424
        }
      ],
      "metadata": {
        "colab": {
          "base_uri": "https://localhost:8080/",
          "height": 513
        },
        "id": "XaUEv7LybsRN",
        "outputId": "9412d88b-50b8-4471-8b42-611aaeee0bc6"
      }
    },
    {
      "cell_type": "code",
      "execution_count": null,
      "source": [
        "# fragmentando a coluna start time em outras colunas\r\n",
        "df['ano'] = df['Start Time'].dt.year\r\n",
        "df['mes'] = df['Start Time'].dt.month_name()\r\n",
        "df['dia'] = df['Start Time'].dt.day\r\n",
        "df['dia da semana'] = df['Start Time'].dt.day_name()\r\n",
        "df['hora do dia'] = df['Start Time'].dt.hour\r\n"
      ],
      "outputs": [],
      "metadata": {
        "id": "8_rh7QjggsLx"
      }
    },
    {
      "cell_type": "code",
      "execution_count": null,
      "source": [
        "df.head()"
      ],
      "outputs": [
        {
          "output_type": "execute_result",
          "data": {
            "text/plain": [
              "                 Start Time Profile Name  ... dia da semana hora do dia\n",
              "0 2021-07-11 13:39:18-03:00      Dimitri  ...        Sunday          13\n",
              "1 2021-07-11 13:17:23-03:00      Dimitri  ...        Sunday          13\n",
              "2 2021-07-11 12:59:26-03:00      Dimitri  ...        Sunday          12\n",
              "3 2021-07-01 19:48:52-03:00      Dimitri  ...      Thursday          19\n",
              "4 2021-07-01 17:42:01-03:00      Dimitri  ...      Thursday          17\n",
              "\n",
              "[5 rows x 17 columns]"
            ],
            "text/html": [
              "<div>\n",
              "<style scoped>\n",
              "    .dataframe tbody tr th:only-of-type {\n",
              "        vertical-align: middle;\n",
              "    }\n",
              "\n",
              "    .dataframe tbody tr th {\n",
              "        vertical-align: top;\n",
              "    }\n",
              "\n",
              "    .dataframe thead th {\n",
              "        text-align: right;\n",
              "    }\n",
              "</style>\n",
              "<table border=\"1\" class=\"dataframe\">\n",
              "  <thead>\n",
              "    <tr style=\"text-align: right;\">\n",
              "      <th></th>\n",
              "      <th>Start Time</th>\n",
              "      <th>Profile Name</th>\n",
              "      <th>Duration</th>\n",
              "      <th>Attributes</th>\n",
              "      <th>Title</th>\n",
              "      <th>Supplemental Video Type</th>\n",
              "      <th>Device Type</th>\n",
              "      <th>Bookmark</th>\n",
              "      <th>Latest Bookmark</th>\n",
              "      <th>Country</th>\n",
              "      <th>duração em minuto</th>\n",
              "      <th>duração em horas</th>\n",
              "      <th>ano</th>\n",
              "      <th>mes</th>\n",
              "      <th>dia</th>\n",
              "      <th>dia da semana</th>\n",
              "      <th>hora do dia</th>\n",
              "    </tr>\n",
              "  </thead>\n",
              "  <tbody>\n",
              "    <tr>\n",
              "      <th>0</th>\n",
              "      <td>2021-07-11 13:39:18-03:00</td>\n",
              "      <td>Dimitri</td>\n",
              "      <td>00:22:55</td>\n",
              "      <td>Autoplayed: user action: User_Interaction;</td>\n",
              "      <td>Sam &amp; Cat: Temporada 2: #OsSuperDoidos (Episód...</td>\n",
              "      <td>NaN</td>\n",
              "      <td>MStar PureTurnkey51 Skyworth OEM2K Smart TV</td>\n",
              "      <td>00:22:15</td>\n",
              "      <td>00:22:15</td>\n",
              "      <td>BR (Brazil)</td>\n",
              "      <td>22.916667</td>\n",
              "      <td>0.381944</td>\n",
              "      <td>2021</td>\n",
              "      <td>July</td>\n",
              "      <td>11</td>\n",
              "      <td>Sunday</td>\n",
              "      <td>13</td>\n",
              "    </tr>\n",
              "    <tr>\n",
              "      <th>1</th>\n",
              "      <td>2021-07-11 13:17:23-03:00</td>\n",
              "      <td>Dimitri</td>\n",
              "      <td>00:21:32</td>\n",
              "      <td>Autoplayed: user action: User_Interaction;</td>\n",
              "      <td>Sam &amp; Cat: Temporada 2: #ConfusõesDePrimeiraCl...</td>\n",
              "      <td>NaN</td>\n",
              "      <td>MStar PureTurnkey51 Skyworth OEM2K Smart TV</td>\n",
              "      <td>00:22:20</td>\n",
              "      <td>00:22:20</td>\n",
              "      <td>BR (Brazil)</td>\n",
              "      <td>21.533333</td>\n",
              "      <td>0.358889</td>\n",
              "      <td>2021</td>\n",
              "      <td>July</td>\n",
              "      <td>11</td>\n",
              "      <td>Sunday</td>\n",
              "      <td>13</td>\n",
              "    </tr>\n",
              "    <tr>\n",
              "      <th>2</th>\n",
              "      <td>2021-07-11 12:59:26-03:00</td>\n",
              "      <td>Dimitri</td>\n",
              "      <td>00:17:28</td>\n",
              "      <td>Autoplayed: user action: User_Interaction;</td>\n",
              "      <td>Sam &amp; Cat: Temporada 2: #ODroneEOBebê (Episódi...</td>\n",
              "      <td>NaN</td>\n",
              "      <td>MStar PureTurnkey51 Skyworth OEM2K Smart TV</td>\n",
              "      <td>00:22:36</td>\n",
              "      <td>00:22:36</td>\n",
              "      <td>BR (Brazil)</td>\n",
              "      <td>17.466667</td>\n",
              "      <td>0.291111</td>\n",
              "      <td>2021</td>\n",
              "      <td>July</td>\n",
              "      <td>11</td>\n",
              "      <td>Sunday</td>\n",
              "      <td>12</td>\n",
              "    </tr>\n",
              "    <tr>\n",
              "      <th>3</th>\n",
              "      <td>2021-07-01 19:48:52-03:00</td>\n",
              "      <td>Dimitri</td>\n",
              "      <td>00:02:51</td>\n",
              "      <td>NaN</td>\n",
              "      <td>Sam &amp; Cat: Temporada 2: #ODroneEOBebê (Episódi...</td>\n",
              "      <td>NaN</td>\n",
              "      <td>Android DefaultWidevineL3Phone Android Phone</td>\n",
              "      <td>00:02:51</td>\n",
              "      <td>Not latest view</td>\n",
              "      <td>BR (Brazil)</td>\n",
              "      <td>2.850000</td>\n",
              "      <td>0.047500</td>\n",
              "      <td>2021</td>\n",
              "      <td>July</td>\n",
              "      <td>1</td>\n",
              "      <td>Thursday</td>\n",
              "      <td>19</td>\n",
              "    </tr>\n",
              "    <tr>\n",
              "      <th>4</th>\n",
              "      <td>2021-07-01 17:42:01-03:00</td>\n",
              "      <td>Dimitri</td>\n",
              "      <td>01:10:59</td>\n",
              "      <td>NaN</td>\n",
              "      <td>Karate Kid</td>\n",
              "      <td>NaN</td>\n",
              "      <td>Android DefaultWidevineL3Phone Android Phone</td>\n",
              "      <td>01:15:43</td>\n",
              "      <td>01:15:43</td>\n",
              "      <td>BR (Brazil)</td>\n",
              "      <td>70.983333</td>\n",
              "      <td>1.183056</td>\n",
              "      <td>2021</td>\n",
              "      <td>July</td>\n",
              "      <td>1</td>\n",
              "      <td>Thursday</td>\n",
              "      <td>17</td>\n",
              "    </tr>\n",
              "  </tbody>\n",
              "</table>\n",
              "</div>"
            ]
          },
          "metadata": {
            "tags": []
          },
          "execution_count": 426
        }
      ],
      "metadata": {
        "colab": {
          "base_uri": "https://localhost:8080/",
          "height": 513
        },
        "id": "s0QCeDQ5hP4i",
        "outputId": "b96e1771-aedb-4cac-9e8c-22b7869b3a7b"
      }
    },
    {
      "cell_type": "code",
      "execution_count": null,
      "source": [
        "\r\n",
        "# Criando mais duas colunas a partir da coluna título.\r\n",
        "df[['Título','Temporada/Ep']] = df['Title'].str.split(':',n=1, expand=True)\r\n",
        "#df.drop('Title', axis=1, inplace=True)"
      ],
      "outputs": [],
      "metadata": {
        "id": "VjQhpO8fMmH1"
      }
    },
    {
      "cell_type": "code",
      "execution_count": null,
      "source": [
        "# Classificando a coluna type view em filme e serie.\r\n",
        "df['Type View'] = df.apply(lambda x:'Filme' if pd.isnull(x['Temporada/Ep']) else 'Serie TV' , axis=1)"
      ],
      "outputs": [],
      "metadata": {
        "id": "WMZeE6ZBMvrW"
      }
    },
    {
      "cell_type": "code",
      "execution_count": null,
      "source": [
        "# Eliminando algumas colunas\r\n",
        "df = df.drop(columns=['Attributes','Supplemental Video Type','Bookmark','Latest Bookmark'])"
      ],
      "outputs": [],
      "metadata": {
        "id": "yBh0vJrpNZjO"
      }
    },
    {
      "cell_type": "code",
      "execution_count": null,
      "source": [
        "# Renomeando colunas\r\n",
        "df = df.rename(columns={'Start Time': 'Data e hora', 'Profile Name':'Nome do Perfil', 'Country':'País','Name Title':'Título','Type View':'Tipo'})"
      ],
      "outputs": [],
      "metadata": {
        "id": "g-xJ5vDs5CmQ"
      }
    },
    {
      "cell_type": "code",
      "execution_count": null,
      "source": [
        "df = df[(df['Nome do Perfil'] == 'Olavo')]"
      ],
      "outputs": [],
      "metadata": {
        "id": "aZCeFgqKnwQ6"
      }
    },
    {
      "cell_type": "markdown",
      "source": [
        "# **Análise Exploratória**"
      ],
      "metadata": {
        "id": "JoMdmuAIMxNk"
      }
    },
    {
      "cell_type": "code",
      "execution_count": null,
      "source": [
        "df.head(4)"
      ],
      "outputs": [
        {
          "output_type": "execute_result",
          "data": {
            "text/plain": [
              "                Data e hora Nome do Perfil  ... Temporada/Ep      Tipo\n",
              "5 2021-07-16 11:58:04-03:00          Olavo  ...   Explicando  Serie TV\n",
              "6 2021-07-16 11:29:15-03:00          Olavo  ...         None     Filme\n",
              "7 2021-07-16 11:28:05-03:00          Olavo  ...         None     Filme\n",
              "8 2021-07-16 11:27:31-03:00          Olavo  ...         None     Filme\n",
              "\n",
              "[4 rows x 16 columns]"
            ],
            "text/html": [
              "<div>\n",
              "<style scoped>\n",
              "    .dataframe tbody tr th:only-of-type {\n",
              "        vertical-align: middle;\n",
              "    }\n",
              "\n",
              "    .dataframe tbody tr th {\n",
              "        vertical-align: top;\n",
              "    }\n",
              "\n",
              "    .dataframe thead th {\n",
              "        text-align: right;\n",
              "    }\n",
              "</style>\n",
              "<table border=\"1\" class=\"dataframe\">\n",
              "  <thead>\n",
              "    <tr style=\"text-align: right;\">\n",
              "      <th></th>\n",
              "      <th>Data e hora</th>\n",
              "      <th>Nome do Perfil</th>\n",
              "      <th>Duration</th>\n",
              "      <th>Title</th>\n",
              "      <th>Device Type</th>\n",
              "      <th>País</th>\n",
              "      <th>duração em minuto</th>\n",
              "      <th>duração em horas</th>\n",
              "      <th>ano</th>\n",
              "      <th>mes</th>\n",
              "      <th>dia</th>\n",
              "      <th>dia da semana</th>\n",
              "      <th>hora do dia</th>\n",
              "      <th>Título</th>\n",
              "      <th>Temporada/Ep</th>\n",
              "      <th>Tipo</th>\n",
              "    </tr>\n",
              "  </thead>\n",
              "  <tbody>\n",
              "    <tr>\n",
              "      <th>5</th>\n",
              "      <td>2021-07-16 11:58:04-03:00</td>\n",
              "      <td>Olavo</td>\n",
              "      <td>00:00:09</td>\n",
              "      <td>Temporada 3 (Trailer): Explicando</td>\n",
              "      <td>Chrome PC (Cadmium)</td>\n",
              "      <td>BR (Brazil)</td>\n",
              "      <td>0.150000</td>\n",
              "      <td>0.002500</td>\n",
              "      <td>2021</td>\n",
              "      <td>July</td>\n",
              "      <td>16</td>\n",
              "      <td>Friday</td>\n",
              "      <td>11</td>\n",
              "      <td>Temporada 3 (Trailer)</td>\n",
              "      <td>Explicando</td>\n",
              "      <td>Serie TV</td>\n",
              "    </tr>\n",
              "    <tr>\n",
              "      <th>6</th>\n",
              "      <td>2021-07-16 11:29:15-03:00</td>\n",
              "      <td>Olavo</td>\n",
              "      <td>00:00:04</td>\n",
              "      <td>Take Your Pills_Autohook_2_16x9</td>\n",
              "      <td>Chrome PC (Cadmium)</td>\n",
              "      <td>BR (Brazil)</td>\n",
              "      <td>0.066667</td>\n",
              "      <td>0.001111</td>\n",
              "      <td>2021</td>\n",
              "      <td>July</td>\n",
              "      <td>16</td>\n",
              "      <td>Friday</td>\n",
              "      <td>11</td>\n",
              "      <td>Take Your Pills_Autohook_2_16x9</td>\n",
              "      <td>None</td>\n",
              "      <td>Filme</td>\n",
              "    </tr>\n",
              "    <tr>\n",
              "      <th>7</th>\n",
              "      <td>2021-07-16 11:28:05-03:00</td>\n",
              "      <td>Olavo</td>\n",
              "      <td>00:00:10</td>\n",
              "      <td>Absorvendo o Tabu (Trailer)</td>\n",
              "      <td>Chrome PC (Cadmium)</td>\n",
              "      <td>BR (Brazil)</td>\n",
              "      <td>0.166667</td>\n",
              "      <td>0.002778</td>\n",
              "      <td>2021</td>\n",
              "      <td>July</td>\n",
              "      <td>16</td>\n",
              "      <td>Friday</td>\n",
              "      <td>11</td>\n",
              "      <td>Absorvendo o Tabu (Trailer)</td>\n",
              "      <td>None</td>\n",
              "      <td>Filme</td>\n",
              "    </tr>\n",
              "    <tr>\n",
              "      <th>8</th>\n",
              "      <td>2021-07-16 11:27:31-03:00</td>\n",
              "      <td>Olavo</td>\n",
              "      <td>00:00:06</td>\n",
              "      <td>The Cabin in the Woods_hook_primary_16x9</td>\n",
              "      <td>Chrome PC (Cadmium)</td>\n",
              "      <td>BR (Brazil)</td>\n",
              "      <td>0.100000</td>\n",
              "      <td>0.001667</td>\n",
              "      <td>2021</td>\n",
              "      <td>July</td>\n",
              "      <td>16</td>\n",
              "      <td>Friday</td>\n",
              "      <td>11</td>\n",
              "      <td>The Cabin in the Woods_hook_primary_16x9</td>\n",
              "      <td>None</td>\n",
              "      <td>Filme</td>\n",
              "    </tr>\n",
              "  </tbody>\n",
              "</table>\n",
              "</div>"
            ]
          },
          "metadata": {
            "tags": []
          },
          "execution_count": 432
        }
      ],
      "metadata": {
        "colab": {
          "base_uri": "https://localhost:8080/",
          "height": 431
        },
        "id": "lktTEzYFM53b",
        "outputId": "d28e2224-2da3-445b-b6c9-c972683c1527"
      }
    },
    {
      "cell_type": "code",
      "execution_count": null,
      "source": [
        "df['Título'].value_counts().head()"
      ],
      "outputs": [
        {
          "output_type": "execute_result",
          "data": {
            "text/plain": [
              "Temporada 1 (Trailer)    33\n",
              "Trailer                  20\n",
              "The Seven Deadly Sins    18\n",
              "Temporada 2 (Trailer)    12\n",
              "Sex/Life                 11\n",
              "Name: Título, dtype: int64"
            ]
          },
          "metadata": {
            "tags": []
          },
          "execution_count": 433
        }
      ],
      "metadata": {
        "colab": {
          "base_uri": "https://localhost:8080/"
        },
        "id": "sBYXWSH2kyo1",
        "outputId": "aa2ad56d-c1a3-4ed2-8219-4bd938ff4570"
      }
    },
    {
      "cell_type": "code",
      "execution_count": null,
      "source": [
        "df.info()"
      ],
      "outputs": [
        {
          "output_type": "stream",
          "name": "stdout",
          "text": [
            "<class 'pandas.core.frame.DataFrame'>\n",
            "Int64Index: 293 entries, 5 to 297\n",
            "Data columns (total 16 columns):\n",
            " #   Column             Non-Null Count  Dtype                            \n",
            "---  ------             --------------  -----                            \n",
            " 0   Data e hora        293 non-null    datetime64[ns, America/Sao_Paulo]\n",
            " 1   Nome do Perfil     293 non-null    object                           \n",
            " 2   Duration           293 non-null    object                           \n",
            " 3   Title              293 non-null    object                           \n",
            " 4   Device Type        293 non-null    object                           \n",
            " 5   País               293 non-null    object                           \n",
            " 6   duração em minuto  293 non-null    float64                          \n",
            " 7   duração em horas   293 non-null    float64                          \n",
            " 8   ano                293 non-null    int64                            \n",
            " 9   mes                293 non-null    object                           \n",
            " 10  dia                293 non-null    int64                            \n",
            " 11  dia da semana      293 non-null    object                           \n",
            " 12  hora do dia        293 non-null    int64                            \n",
            " 13  Título             293 non-null    object                           \n",
            " 14  Temporada/Ep       214 non-null    object                           \n",
            " 15  Tipo               293 non-null    object                           \n",
            "dtypes: datetime64[ns, America/Sao_Paulo](1), float64(2), int64(3), object(10)\n",
            "memory usage: 38.9+ KB\n"
          ]
        }
      ],
      "metadata": {
        "colab": {
          "base_uri": "https://localhost:8080/"
        },
        "id": "k5p9PxGv11eu",
        "outputId": "0e12217b-f05a-4c9b-aced-68451d04376c"
      }
    },
    {
      "cell_type": "code",
      "execution_count": null,
      "source": [
        "#Tempo total por aparelho\r\n",
        "tempo_aparelho = df.groupby(by=['Título'])['duração em minuto'].sum().sort_values(ascending=False)\r\n",
        "tempo_aparelho.head()"
      ],
      "outputs": [
        {
          "output_type": "execute_result",
          "data": {
            "text/plain": [
              "Título\n",
              "Sex/Life                 356.733333\n",
              "Hollywood                340.116667\n",
              "The Seven Deadly Sins    251.633333\n",
              "Lupin                    183.483333\n",
              "Cidade de Gelo           145.233333\n",
              "Name: duração em minuto, dtype: float64"
            ]
          },
          "metadata": {
            "tags": []
          },
          "execution_count": 435
        }
      ],
      "metadata": {
        "colab": {
          "base_uri": "https://localhost:8080/"
        },
        "id": "xPVFm3_mNIE2",
        "outputId": "daab6be2-ee0a-4a6f-c676-9e76e3e3933a"
      }
    },
    {
      "cell_type": "code",
      "execution_count": null,
      "source": [
        "#Tempo total dia da semana\n",
        "dia_semana = df.groupby(by=[\"dia da semana\"])['duração em minuto'].sum().sort_values(ascending=False)\n",
        "dia_semana.head()"
      ],
      "outputs": [
        {
          "output_type": "execute_result",
          "data": {
            "text/plain": [
              "dia da semana\n",
              "Monday      370.750000\n",
              "Thursday    360.900000\n",
              "Sunday      351.566667\n",
              "Friday      275.600000\n",
              "Tuesday     199.350000\n",
              "Name: duração em minuto, dtype: float64"
            ]
          },
          "metadata": {
            "tags": []
          },
          "execution_count": 436
        }
      ],
      "metadata": {
        "colab": {
          "base_uri": "https://localhost:8080/"
        },
        "id": "H-Rw1BoB_foy",
        "outputId": "6f508b0b-a613-4f43-ae30-05d230c59cc6"
      }
    },
    {
      "cell_type": "code",
      "execution_count": null,
      "source": [
        "#Tempo total no ano\n",
        "dia_semana = df.groupby(by=[\"ano\"])['duração em minuto'].sum().sort_values(ascending=False)\n",
        "dia_semana.head()"
      ],
      "outputs": [
        {
          "output_type": "execute_result",
          "data": {
            "text/plain": [
              "ano\n",
              "2021    1734.9\n",
              "Name: duração em minuto, dtype: float64"
            ]
          },
          "metadata": {
            "tags": []
          },
          "execution_count": 437
        }
      ],
      "metadata": {
        "colab": {
          "base_uri": "https://localhost:8080/"
        },
        "id": "VNCR9WiEHi1s",
        "outputId": "4000d984-5d05-4f98-94a0-c0366b536741"
      }
    },
    {
      "cell_type": "code",
      "execution_count": null,
      "source": [
        "#Tempo total mes\n",
        "mes = df.groupby(by=[\"mes\"])['duração em minuto'].sum().sort_values(ascending=False)\n",
        "mes.head()"
      ],
      "outputs": [
        {
          "output_type": "execute_result",
          "data": {
            "text/plain": [
              "mes\n",
              "July    1734.9\n",
              "Name: duração em minuto, dtype: float64"
            ]
          },
          "metadata": {
            "tags": []
          },
          "execution_count": 438
        }
      ],
      "metadata": {
        "colab": {
          "base_uri": "https://localhost:8080/"
        },
        "id": "5LyJ9NsNH-Az",
        "outputId": "a4ded18c-b2c2-4c98-8c60-c6ef37be8c74"
      }
    },
    {
      "cell_type": "code",
      "execution_count": null,
      "source": [
        "#Nº de ep assistidos \n",
        "n_ep = df['Temporada/Ep'].value_counts()\n",
        "n_ep.sum()"
      ],
      "outputs": [
        {
          "output_type": "execute_result",
          "data": {
            "text/plain": [
              "214"
            ]
          },
          "metadata": {
            "tags": []
          },
          "execution_count": 439
        }
      ],
      "metadata": {
        "colab": {
          "base_uri": "https://localhost:8080/"
        },
        "id": "sE4rUWQXw_3s",
        "outputId": "3236b9d4-1f01-4ed4-c6c4-cdcbfbb806d4"
      }
    },
    {
      "cell_type": "code",
      "execution_count": null,
      "source": [
        "filmes = df['Tipo']=='Filme'\n",
        "filmes.value_counts()"
      ],
      "outputs": [
        {
          "output_type": "execute_result",
          "data": {
            "text/plain": [
              "False    214\n",
              "True      79\n",
              "Name: Tipo, dtype: int64"
            ]
          },
          "metadata": {
            "tags": []
          },
          "execution_count": 440
        }
      ],
      "metadata": {
        "colab": {
          "base_uri": "https://localhost:8080/"
        },
        "id": "cXgza8ilzarL",
        "outputId": "09356955-b06c-402e-f39a-e87cd9ebad38"
      }
    },
    {
      "cell_type": "code",
      "execution_count": null,
      "source": [
        "df.head(3)"
      ],
      "outputs": [
        {
          "output_type": "execute_result",
          "data": {
            "text/plain": [
              "                Data e hora Nome do Perfil  ... Temporada/Ep      Tipo\n",
              "5 2021-07-16 11:58:04-03:00          Olavo  ...   Explicando  Serie TV\n",
              "6 2021-07-16 11:29:15-03:00          Olavo  ...         None     Filme\n",
              "7 2021-07-16 11:28:05-03:00          Olavo  ...         None     Filme\n",
              "\n",
              "[3 rows x 16 columns]"
            ],
            "text/html": [
              "<div>\n",
              "<style scoped>\n",
              "    .dataframe tbody tr th:only-of-type {\n",
              "        vertical-align: middle;\n",
              "    }\n",
              "\n",
              "    .dataframe tbody tr th {\n",
              "        vertical-align: top;\n",
              "    }\n",
              "\n",
              "    .dataframe thead th {\n",
              "        text-align: right;\n",
              "    }\n",
              "</style>\n",
              "<table border=\"1\" class=\"dataframe\">\n",
              "  <thead>\n",
              "    <tr style=\"text-align: right;\">\n",
              "      <th></th>\n",
              "      <th>Data e hora</th>\n",
              "      <th>Nome do Perfil</th>\n",
              "      <th>Duration</th>\n",
              "      <th>Title</th>\n",
              "      <th>Device Type</th>\n",
              "      <th>País</th>\n",
              "      <th>duração em minuto</th>\n",
              "      <th>duração em horas</th>\n",
              "      <th>ano</th>\n",
              "      <th>mes</th>\n",
              "      <th>dia</th>\n",
              "      <th>dia da semana</th>\n",
              "      <th>hora do dia</th>\n",
              "      <th>Título</th>\n",
              "      <th>Temporada/Ep</th>\n",
              "      <th>Tipo</th>\n",
              "    </tr>\n",
              "  </thead>\n",
              "  <tbody>\n",
              "    <tr>\n",
              "      <th>5</th>\n",
              "      <td>2021-07-16 11:58:04-03:00</td>\n",
              "      <td>Olavo</td>\n",
              "      <td>00:00:09</td>\n",
              "      <td>Temporada 3 (Trailer): Explicando</td>\n",
              "      <td>Chrome PC (Cadmium)</td>\n",
              "      <td>BR (Brazil)</td>\n",
              "      <td>0.150000</td>\n",
              "      <td>0.002500</td>\n",
              "      <td>2021</td>\n",
              "      <td>July</td>\n",
              "      <td>16</td>\n",
              "      <td>Friday</td>\n",
              "      <td>11</td>\n",
              "      <td>Temporada 3 (Trailer)</td>\n",
              "      <td>Explicando</td>\n",
              "      <td>Serie TV</td>\n",
              "    </tr>\n",
              "    <tr>\n",
              "      <th>6</th>\n",
              "      <td>2021-07-16 11:29:15-03:00</td>\n",
              "      <td>Olavo</td>\n",
              "      <td>00:00:04</td>\n",
              "      <td>Take Your Pills_Autohook_2_16x9</td>\n",
              "      <td>Chrome PC (Cadmium)</td>\n",
              "      <td>BR (Brazil)</td>\n",
              "      <td>0.066667</td>\n",
              "      <td>0.001111</td>\n",
              "      <td>2021</td>\n",
              "      <td>July</td>\n",
              "      <td>16</td>\n",
              "      <td>Friday</td>\n",
              "      <td>11</td>\n",
              "      <td>Take Your Pills_Autohook_2_16x9</td>\n",
              "      <td>None</td>\n",
              "      <td>Filme</td>\n",
              "    </tr>\n",
              "    <tr>\n",
              "      <th>7</th>\n",
              "      <td>2021-07-16 11:28:05-03:00</td>\n",
              "      <td>Olavo</td>\n",
              "      <td>00:00:10</td>\n",
              "      <td>Absorvendo o Tabu (Trailer)</td>\n",
              "      <td>Chrome PC (Cadmium)</td>\n",
              "      <td>BR (Brazil)</td>\n",
              "      <td>0.166667</td>\n",
              "      <td>0.002778</td>\n",
              "      <td>2021</td>\n",
              "      <td>July</td>\n",
              "      <td>16</td>\n",
              "      <td>Friday</td>\n",
              "      <td>11</td>\n",
              "      <td>Absorvendo o Tabu (Trailer)</td>\n",
              "      <td>None</td>\n",
              "      <td>Filme</td>\n",
              "    </tr>\n",
              "  </tbody>\n",
              "</table>\n",
              "</div>"
            ]
          },
          "metadata": {
            "tags": []
          },
          "execution_count": 441
        }
      ],
      "metadata": {
        "colab": {
          "base_uri": "https://localhost:8080/",
          "height": 349
        },
        "id": "T_p2Gt7Z2zqm",
        "outputId": "44128d13-b177-4d2b-d9bd-f1908457c7d3"
      }
    },
    {
      "cell_type": "code",
      "execution_count": null,
      "source": [
        "df = df.drop(columns='Duration')"
      ],
      "outputs": [],
      "metadata": {
        "id": "0bCTOCsD2Xse"
      }
    },
    {
      "cell_type": "code",
      "execution_count": null,
      "source": [
        "df.to_csv('netflix.csv', index=0)"
      ],
      "outputs": [],
      "metadata": {
        "id": "7njTyi8OWb6G"
      }
    }
  ]
}