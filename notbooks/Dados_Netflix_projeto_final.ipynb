{
  "nbformat": 4,
  "nbformat_minor": 2,
  "metadata": {
    "colab": {
      "name": "Dados Netflix projeto final",
      "provenance": []
    },
    "kernelspec": {
      "name": "python3",
      "display_name": "Python 3"
    },
    "language_info": {
      "name": "python"
    }
  },
  "cells": [
    {
      "cell_type": "markdown",
      "source": [
        "#**Limpeza dos dados**"
      ],
      "metadata": {
        "id": "FrFkujna5_yA"
      }
    },
    {
      "cell_type": "code",
      "execution_count": 59,
      "source": [
        "import pandas as pd\r\n",
        "\r\n",
        "df = pd.read_csv('Arquivo')\r\n",
        "df.head()"
      ],
      "outputs": [
        {
          "output_type": "execute_result",
          "data": {
            "text/plain": [
              "  Profile Name           Start Time  ...  Latest Bookmark      Country\n",
              "0      Dimitri  2021-07-11 16:39:18  ...         00:22:15  BR (Brazil)\n",
              "1      Dimitri  2021-07-11 16:17:23  ...         00:22:20  BR (Brazil)\n",
              "2      Dimitri  2021-07-11 15:59:26  ...         00:22:36  BR (Brazil)\n",
              "3      Dimitri  2021-07-01 22:48:52  ...  Not latest view  BR (Brazil)\n",
              "4      Dimitri  2021-07-01 20:42:01  ...         01:15:43  BR (Brazil)\n",
              "\n",
              "[5 rows x 10 columns]"
            ],
            "text/html": [
              "<div>\n",
              "<style scoped>\n",
              "    .dataframe tbody tr th:only-of-type {\n",
              "        vertical-align: middle;\n",
              "    }\n",
              "\n",
              "    .dataframe tbody tr th {\n",
              "        vertical-align: top;\n",
              "    }\n",
              "\n",
              "    .dataframe thead th {\n",
              "        text-align: right;\n",
              "    }\n",
              "</style>\n",
              "<table border=\"1\" class=\"dataframe\">\n",
              "  <thead>\n",
              "    <tr style=\"text-align: right;\">\n",
              "      <th></th>\n",
              "      <th>Profile Name</th>\n",
              "      <th>Start Time</th>\n",
              "      <th>Duration</th>\n",
              "      <th>Attributes</th>\n",
              "      <th>Title</th>\n",
              "      <th>Supplemental Video Type</th>\n",
              "      <th>Device Type</th>\n",
              "      <th>Bookmark</th>\n",
              "      <th>Latest Bookmark</th>\n",
              "      <th>Country</th>\n",
              "    </tr>\n",
              "  </thead>\n",
              "  <tbody>\n",
              "    <tr>\n",
              "      <th>0</th>\n",
              "      <td>Dimitri</td>\n",
              "      <td>2021-07-11 16:39:18</td>\n",
              "      <td>00:22:55</td>\n",
              "      <td>Autoplayed: user action: User_Interaction;</td>\n",
              "      <td>Sam &amp; Cat: Temporada 2: #OsSuperDoidos (Episód...</td>\n",
              "      <td>NaN</td>\n",
              "      <td>MStar PureTurnkey51 Skyworth OEM2K Smart TV</td>\n",
              "      <td>00:22:15</td>\n",
              "      <td>00:22:15</td>\n",
              "      <td>BR (Brazil)</td>\n",
              "    </tr>\n",
              "    <tr>\n",
              "      <th>1</th>\n",
              "      <td>Dimitri</td>\n",
              "      <td>2021-07-11 16:17:23</td>\n",
              "      <td>00:21:32</td>\n",
              "      <td>Autoplayed: user action: User_Interaction;</td>\n",
              "      <td>Sam &amp; Cat: Temporada 2: #ConfusõesDePrimeiraCl...</td>\n",
              "      <td>NaN</td>\n",
              "      <td>MStar PureTurnkey51 Skyworth OEM2K Smart TV</td>\n",
              "      <td>00:22:20</td>\n",
              "      <td>00:22:20</td>\n",
              "      <td>BR (Brazil)</td>\n",
              "    </tr>\n",
              "    <tr>\n",
              "      <th>2</th>\n",
              "      <td>Dimitri</td>\n",
              "      <td>2021-07-11 15:59:26</td>\n",
              "      <td>00:17:28</td>\n",
              "      <td>Autoplayed: user action: User_Interaction;</td>\n",
              "      <td>Sam &amp; Cat: Temporada 2: #ODroneEOBebê (Episódi...</td>\n",
              "      <td>NaN</td>\n",
              "      <td>MStar PureTurnkey51 Skyworth OEM2K Smart TV</td>\n",
              "      <td>00:22:36</td>\n",
              "      <td>00:22:36</td>\n",
              "      <td>BR (Brazil)</td>\n",
              "    </tr>\n",
              "    <tr>\n",
              "      <th>3</th>\n",
              "      <td>Dimitri</td>\n",
              "      <td>2021-07-01 22:48:52</td>\n",
              "      <td>00:02:51</td>\n",
              "      <td>NaN</td>\n",
              "      <td>Sam &amp; Cat: Temporada 2: #ODroneEOBebê (Episódi...</td>\n",
              "      <td>NaN</td>\n",
              "      <td>Android DefaultWidevineL3Phone Android Phone</td>\n",
              "      <td>00:02:51</td>\n",
              "      <td>Not latest view</td>\n",
              "      <td>BR (Brazil)</td>\n",
              "    </tr>\n",
              "    <tr>\n",
              "      <th>4</th>\n",
              "      <td>Dimitri</td>\n",
              "      <td>2021-07-01 20:42:01</td>\n",
              "      <td>01:10:59</td>\n",
              "      <td>NaN</td>\n",
              "      <td>Karate Kid</td>\n",
              "      <td>NaN</td>\n",
              "      <td>Android DefaultWidevineL3Phone Android Phone</td>\n",
              "      <td>01:15:43</td>\n",
              "      <td>01:15:43</td>\n",
              "      <td>BR (Brazil)</td>\n",
              "    </tr>\n",
              "  </tbody>\n",
              "</table>\n",
              "</div>"
            ]
          },
          "metadata": {
            "tags": []
          },
          "execution_count": 59
        }
      ],
      "metadata": {
        "id": "Imo2o4VP_Q97",
        "colab": {
          "base_uri": "https://localhost:8080/",
          "height": 411
        },
        "outputId": "ef2a0e81-4aea-45d4-b86d-12ae0aa699c5"
      }
    },
    {
      "cell_type": "code",
      "execution_count": 60,
      "source": [
        "#Averiguando os tipos de dados.\r\n",
        "df.info()"
      ],
      "outputs": [
        {
          "output_type": "stream",
          "name": "stdout",
          "text": [
            "<class 'pandas.core.frame.DataFrame'>\n",
            "RangeIndex: 380 entries, 0 to 379\n",
            "Data columns (total 10 columns):\n",
            " #   Column                   Non-Null Count  Dtype \n",
            "---  ------                   --------------  ----- \n",
            " 0   Profile Name             380 non-null    object\n",
            " 1   Start Time               380 non-null    object\n",
            " 2   Duration                 380 non-null    object\n",
            " 3   Attributes               180 non-null    object\n",
            " 4   Title                    380 non-null    object\n",
            " 5   Supplemental Video Type  257 non-null    object\n",
            " 6   Device Type              380 non-null    object\n",
            " 7   Bookmark                 380 non-null    object\n",
            " 8   Latest Bookmark          380 non-null    object\n",
            " 9   Country                  380 non-null    object\n",
            "dtypes: object(10)\n",
            "memory usage: 29.8+ KB\n"
          ]
        }
      ],
      "metadata": {
        "colab": {
          "base_uri": "https://localhost:8080/"
        },
        "id": "UWoEy2zmZ3me",
        "outputId": "d9369c43-2843-498b-fd79-da69c928da34"
      }
    },
    {
      "cell_type": "code",
      "execution_count": 61,
      "source": [
        "# Convertendo os tipos de dados das colunas start time.\r\n",
        "df['Start Time'] = pd.to_datetime(df['Start Time'],utc=True)\r\n",
        "df = df.set_index('Start Time')\r\n"
      ],
      "outputs": [],
      "metadata": {
        "id": "v23UQ_BZQhvL"
      }
    },
    {
      "cell_type": "code",
      "execution_count": 62,
      "source": [
        "#mudando o nome e o tipo de dado para poder contabilizar \r\n",
        "df['duração em minuto'] = df['Duration'].str.split(':').apply(\r\n",
        "    lambda x: int(x[0]) * 60.0 + int(x[1]) + int(x[2]) / 60.0)"
      ],
      "outputs": [],
      "metadata": {
        "id": "zAzIFK6kBraI"
      }
    },
    {
      "cell_type": "code",
      "execution_count": 63,
      "source": [
        "# Criando as colunas de duração(hora) e (min)\r\n",
        "df['duração em horas'] = df['duração em minuto']/60.0"
      ],
      "outputs": [],
      "metadata": {
        "id": "q30tLLUvzy08"
      }
    },
    {
      "cell_type": "code",
      "execution_count": 64,
      "source": [
        "df.info()"
      ],
      "outputs": [
        {
          "output_type": "stream",
          "name": "stdout",
          "text": [
            "<class 'pandas.core.frame.DataFrame'>\n",
            "DatetimeIndex: 380 entries, 2021-07-11 16:39:18+00:00 to 2021-07-01 23:34:26+00:00\n",
            "Data columns (total 11 columns):\n",
            " #   Column                   Non-Null Count  Dtype  \n",
            "---  ------                   --------------  -----  \n",
            " 0   Profile Name             380 non-null    object \n",
            " 1   Duration                 380 non-null    object \n",
            " 2   Attributes               180 non-null    object \n",
            " 3   Title                    380 non-null    object \n",
            " 4   Supplemental Video Type  257 non-null    object \n",
            " 5   Device Type              380 non-null    object \n",
            " 6   Bookmark                 380 non-null    object \n",
            " 7   Latest Bookmark          380 non-null    object \n",
            " 8   Country                  380 non-null    object \n",
            " 9   duração em minuto        380 non-null    float64\n",
            " 10  duração em horas         380 non-null    float64\n",
            "dtypes: float64(2), object(9)\n",
            "memory usage: 35.6+ KB\n"
          ]
        }
      ],
      "metadata": {
        "colab": {
          "base_uri": "https://localhost:8080/"
        },
        "id": "Hvl1W3WSQiS1",
        "outputId": "f5d4fc81-39a1-4927-c47f-c3484f819b8a"
      }
    },
    {
      "cell_type": "code",
      "execution_count": 65,
      "source": [
        "df.head()"
      ],
      "outputs": [
        {
          "output_type": "execute_result",
          "data": {
            "text/plain": [
              "                          Profile Name  ... duração em horas\n",
              "Start Time                              ...                 \n",
              "2021-07-11 16:39:18+00:00      Dimitri  ...         0.381944\n",
              "2021-07-11 16:17:23+00:00      Dimitri  ...         0.358889\n",
              "2021-07-11 15:59:26+00:00      Dimitri  ...         0.291111\n",
              "2021-07-01 22:48:52+00:00      Dimitri  ...         0.047500\n",
              "2021-07-01 20:42:01+00:00      Dimitri  ...         1.183056\n",
              "\n",
              "[5 rows x 11 columns]"
            ],
            "text/html": [
              "<div>\n",
              "<style scoped>\n",
              "    .dataframe tbody tr th:only-of-type {\n",
              "        vertical-align: middle;\n",
              "    }\n",
              "\n",
              "    .dataframe tbody tr th {\n",
              "        vertical-align: top;\n",
              "    }\n",
              "\n",
              "    .dataframe thead th {\n",
              "        text-align: right;\n",
              "    }\n",
              "</style>\n",
              "<table border=\"1\" class=\"dataframe\">\n",
              "  <thead>\n",
              "    <tr style=\"text-align: right;\">\n",
              "      <th></th>\n",
              "      <th>Profile Name</th>\n",
              "      <th>Duration</th>\n",
              "      <th>Attributes</th>\n",
              "      <th>Title</th>\n",
              "      <th>Supplemental Video Type</th>\n",
              "      <th>Device Type</th>\n",
              "      <th>Bookmark</th>\n",
              "      <th>Latest Bookmark</th>\n",
              "      <th>Country</th>\n",
              "      <th>duração em minuto</th>\n",
              "      <th>duração em horas</th>\n",
              "    </tr>\n",
              "    <tr>\n",
              "      <th>Start Time</th>\n",
              "      <th></th>\n",
              "      <th></th>\n",
              "      <th></th>\n",
              "      <th></th>\n",
              "      <th></th>\n",
              "      <th></th>\n",
              "      <th></th>\n",
              "      <th></th>\n",
              "      <th></th>\n",
              "      <th></th>\n",
              "      <th></th>\n",
              "    </tr>\n",
              "  </thead>\n",
              "  <tbody>\n",
              "    <tr>\n",
              "      <th>2021-07-11 16:39:18+00:00</th>\n",
              "      <td>Dimitri</td>\n",
              "      <td>00:22:55</td>\n",
              "      <td>Autoplayed: user action: User_Interaction;</td>\n",
              "      <td>Sam &amp; Cat: Temporada 2: #OsSuperDoidos (Episód...</td>\n",
              "      <td>NaN</td>\n",
              "      <td>MStar PureTurnkey51 Skyworth OEM2K Smart TV</td>\n",
              "      <td>00:22:15</td>\n",
              "      <td>00:22:15</td>\n",
              "      <td>BR (Brazil)</td>\n",
              "      <td>22.916667</td>\n",
              "      <td>0.381944</td>\n",
              "    </tr>\n",
              "    <tr>\n",
              "      <th>2021-07-11 16:17:23+00:00</th>\n",
              "      <td>Dimitri</td>\n",
              "      <td>00:21:32</td>\n",
              "      <td>Autoplayed: user action: User_Interaction;</td>\n",
              "      <td>Sam &amp; Cat: Temporada 2: #ConfusõesDePrimeiraCl...</td>\n",
              "      <td>NaN</td>\n",
              "      <td>MStar PureTurnkey51 Skyworth OEM2K Smart TV</td>\n",
              "      <td>00:22:20</td>\n",
              "      <td>00:22:20</td>\n",
              "      <td>BR (Brazil)</td>\n",
              "      <td>21.533333</td>\n",
              "      <td>0.358889</td>\n",
              "    </tr>\n",
              "    <tr>\n",
              "      <th>2021-07-11 15:59:26+00:00</th>\n",
              "      <td>Dimitri</td>\n",
              "      <td>00:17:28</td>\n",
              "      <td>Autoplayed: user action: User_Interaction;</td>\n",
              "      <td>Sam &amp; Cat: Temporada 2: #ODroneEOBebê (Episódi...</td>\n",
              "      <td>NaN</td>\n",
              "      <td>MStar PureTurnkey51 Skyworth OEM2K Smart TV</td>\n",
              "      <td>00:22:36</td>\n",
              "      <td>00:22:36</td>\n",
              "      <td>BR (Brazil)</td>\n",
              "      <td>17.466667</td>\n",
              "      <td>0.291111</td>\n",
              "    </tr>\n",
              "    <tr>\n",
              "      <th>2021-07-01 22:48:52+00:00</th>\n",
              "      <td>Dimitri</td>\n",
              "      <td>00:02:51</td>\n",
              "      <td>NaN</td>\n",
              "      <td>Sam &amp; Cat: Temporada 2: #ODroneEOBebê (Episódi...</td>\n",
              "      <td>NaN</td>\n",
              "      <td>Android DefaultWidevineL3Phone Android Phone</td>\n",
              "      <td>00:02:51</td>\n",
              "      <td>Not latest view</td>\n",
              "      <td>BR (Brazil)</td>\n",
              "      <td>2.850000</td>\n",
              "      <td>0.047500</td>\n",
              "    </tr>\n",
              "    <tr>\n",
              "      <th>2021-07-01 20:42:01+00:00</th>\n",
              "      <td>Dimitri</td>\n",
              "      <td>01:10:59</td>\n",
              "      <td>NaN</td>\n",
              "      <td>Karate Kid</td>\n",
              "      <td>NaN</td>\n",
              "      <td>Android DefaultWidevineL3Phone Android Phone</td>\n",
              "      <td>01:15:43</td>\n",
              "      <td>01:15:43</td>\n",
              "      <td>BR (Brazil)</td>\n",
              "      <td>70.983333</td>\n",
              "      <td>1.183056</td>\n",
              "    </tr>\n",
              "  </tbody>\n",
              "</table>\n",
              "</div>"
            ]
          },
          "metadata": {
            "tags": []
          },
          "execution_count": 65
        }
      ],
      "metadata": {
        "colab": {
          "base_uri": "https://localhost:8080/",
          "height": 459
        },
        "id": "T7Ti1BQVee_t",
        "outputId": "df256bf0-8571-47c2-ca09-6c61c882abff"
      }
    },
    {
      "cell_type": "code",
      "execution_count": 66,
      "source": [
        "# Convertendo para o horário brasileiro\r\n",
        "df.index = df.index.tz_convert('America/Sao_Paulo')\r\n",
        "df = df.reset_index()\r\n"
      ],
      "outputs": [],
      "metadata": {
        "id": "1kdHaheRQiz-"
      }
    },
    {
      "cell_type": "code",
      "execution_count": 67,
      "source": [
        "df.head()"
      ],
      "outputs": [
        {
          "output_type": "execute_result",
          "data": {
            "text/plain": [
              "                 Start Time Profile Name  ... duração em minuto duração em horas\n",
              "0 2021-07-11 13:39:18-03:00      Dimitri  ...         22.916667         0.381944\n",
              "1 2021-07-11 13:17:23-03:00      Dimitri  ...         21.533333         0.358889\n",
              "2 2021-07-11 12:59:26-03:00      Dimitri  ...         17.466667         0.291111\n",
              "3 2021-07-01 19:48:52-03:00      Dimitri  ...          2.850000         0.047500\n",
              "4 2021-07-01 17:42:01-03:00      Dimitri  ...         70.983333         1.183056\n",
              "\n",
              "[5 rows x 12 columns]"
            ],
            "text/html": [
              "<div>\n",
              "<style scoped>\n",
              "    .dataframe tbody tr th:only-of-type {\n",
              "        vertical-align: middle;\n",
              "    }\n",
              "\n",
              "    .dataframe tbody tr th {\n",
              "        vertical-align: top;\n",
              "    }\n",
              "\n",
              "    .dataframe thead th {\n",
              "        text-align: right;\n",
              "    }\n",
              "</style>\n",
              "<table border=\"1\" class=\"dataframe\">\n",
              "  <thead>\n",
              "    <tr style=\"text-align: right;\">\n",
              "      <th></th>\n",
              "      <th>Start Time</th>\n",
              "      <th>Profile Name</th>\n",
              "      <th>Duration</th>\n",
              "      <th>Attributes</th>\n",
              "      <th>Title</th>\n",
              "      <th>Supplemental Video Type</th>\n",
              "      <th>Device Type</th>\n",
              "      <th>Bookmark</th>\n",
              "      <th>Latest Bookmark</th>\n",
              "      <th>Country</th>\n",
              "      <th>duração em minuto</th>\n",
              "      <th>duração em horas</th>\n",
              "    </tr>\n",
              "  </thead>\n",
              "  <tbody>\n",
              "    <tr>\n",
              "      <th>0</th>\n",
              "      <td>2021-07-11 13:39:18-03:00</td>\n",
              "      <td>Dimitri</td>\n",
              "      <td>00:22:55</td>\n",
              "      <td>Autoplayed: user action: User_Interaction;</td>\n",
              "      <td>Sam &amp; Cat: Temporada 2: #OsSuperDoidos (Episód...</td>\n",
              "      <td>NaN</td>\n",
              "      <td>MStar PureTurnkey51 Skyworth OEM2K Smart TV</td>\n",
              "      <td>00:22:15</td>\n",
              "      <td>00:22:15</td>\n",
              "      <td>BR (Brazil)</td>\n",
              "      <td>22.916667</td>\n",
              "      <td>0.381944</td>\n",
              "    </tr>\n",
              "    <tr>\n",
              "      <th>1</th>\n",
              "      <td>2021-07-11 13:17:23-03:00</td>\n",
              "      <td>Dimitri</td>\n",
              "      <td>00:21:32</td>\n",
              "      <td>Autoplayed: user action: User_Interaction;</td>\n",
              "      <td>Sam &amp; Cat: Temporada 2: #ConfusõesDePrimeiraCl...</td>\n",
              "      <td>NaN</td>\n",
              "      <td>MStar PureTurnkey51 Skyworth OEM2K Smart TV</td>\n",
              "      <td>00:22:20</td>\n",
              "      <td>00:22:20</td>\n",
              "      <td>BR (Brazil)</td>\n",
              "      <td>21.533333</td>\n",
              "      <td>0.358889</td>\n",
              "    </tr>\n",
              "    <tr>\n",
              "      <th>2</th>\n",
              "      <td>2021-07-11 12:59:26-03:00</td>\n",
              "      <td>Dimitri</td>\n",
              "      <td>00:17:28</td>\n",
              "      <td>Autoplayed: user action: User_Interaction;</td>\n",
              "      <td>Sam &amp; Cat: Temporada 2: #ODroneEOBebê (Episódi...</td>\n",
              "      <td>NaN</td>\n",
              "      <td>MStar PureTurnkey51 Skyworth OEM2K Smart TV</td>\n",
              "      <td>00:22:36</td>\n",
              "      <td>00:22:36</td>\n",
              "      <td>BR (Brazil)</td>\n",
              "      <td>17.466667</td>\n",
              "      <td>0.291111</td>\n",
              "    </tr>\n",
              "    <tr>\n",
              "      <th>3</th>\n",
              "      <td>2021-07-01 19:48:52-03:00</td>\n",
              "      <td>Dimitri</td>\n",
              "      <td>00:02:51</td>\n",
              "      <td>NaN</td>\n",
              "      <td>Sam &amp; Cat: Temporada 2: #ODroneEOBebê (Episódi...</td>\n",
              "      <td>NaN</td>\n",
              "      <td>Android DefaultWidevineL3Phone Android Phone</td>\n",
              "      <td>00:02:51</td>\n",
              "      <td>Not latest view</td>\n",
              "      <td>BR (Brazil)</td>\n",
              "      <td>2.850000</td>\n",
              "      <td>0.047500</td>\n",
              "    </tr>\n",
              "    <tr>\n",
              "      <th>4</th>\n",
              "      <td>2021-07-01 17:42:01-03:00</td>\n",
              "      <td>Dimitri</td>\n",
              "      <td>01:10:59</td>\n",
              "      <td>NaN</td>\n",
              "      <td>Karate Kid</td>\n",
              "      <td>NaN</td>\n",
              "      <td>Android DefaultWidevineL3Phone Android Phone</td>\n",
              "      <td>01:15:43</td>\n",
              "      <td>01:15:43</td>\n",
              "      <td>BR (Brazil)</td>\n",
              "      <td>70.983333</td>\n",
              "      <td>1.183056</td>\n",
              "    </tr>\n",
              "  </tbody>\n",
              "</table>\n",
              "</div>"
            ]
          },
          "metadata": {
            "tags": []
          },
          "execution_count": 67
        }
      ],
      "metadata": {
        "colab": {
          "base_uri": "https://localhost:8080/",
          "height": 513
        },
        "id": "XaUEv7LybsRN",
        "outputId": "674f907e-d62b-491d-87fb-bc73d6bea630"
      }
    },
    {
      "cell_type": "code",
      "execution_count": 68,
      "source": [
        "# fragmentando a coluna start time em outras colunas\r\n",
        "df['ano'] = df['Start Time'].dt.year\r\n",
        "df['mes'] = df['Start Time'].dt.month_name()\r\n",
        "df['dia'] = df['Start Time'].dt.day\r\n",
        "df['dia da semana'] = df['Start Time'].dt.day_name()\r\n",
        "df['hora do dia'] = df['Start Time'].dt.hour\r\n"
      ],
      "outputs": [],
      "metadata": {
        "id": "8_rh7QjggsLx"
      }
    },
    {
      "cell_type": "code",
      "execution_count": 69,
      "source": [
        "df.head()"
      ],
      "outputs": [
        {
          "output_type": "execute_result",
          "data": {
            "text/plain": [
              "                 Start Time Profile Name  ... dia da semana hora do dia\n",
              "0 2021-07-11 13:39:18-03:00      Dimitri  ...        Sunday          13\n",
              "1 2021-07-11 13:17:23-03:00      Dimitri  ...        Sunday          13\n",
              "2 2021-07-11 12:59:26-03:00      Dimitri  ...        Sunday          12\n",
              "3 2021-07-01 19:48:52-03:00      Dimitri  ...      Thursday          19\n",
              "4 2021-07-01 17:42:01-03:00      Dimitri  ...      Thursday          17\n",
              "\n",
              "[5 rows x 17 columns]"
            ],
            "text/html": [
              "<div>\n",
              "<style scoped>\n",
              "    .dataframe tbody tr th:only-of-type {\n",
              "        vertical-align: middle;\n",
              "    }\n",
              "\n",
              "    .dataframe tbody tr th {\n",
              "        vertical-align: top;\n",
              "    }\n",
              "\n",
              "    .dataframe thead th {\n",
              "        text-align: right;\n",
              "    }\n",
              "</style>\n",
              "<table border=\"1\" class=\"dataframe\">\n",
              "  <thead>\n",
              "    <tr style=\"text-align: right;\">\n",
              "      <th></th>\n",
              "      <th>Start Time</th>\n",
              "      <th>Profile Name</th>\n",
              "      <th>Duration</th>\n",
              "      <th>Attributes</th>\n",
              "      <th>Title</th>\n",
              "      <th>Supplemental Video Type</th>\n",
              "      <th>Device Type</th>\n",
              "      <th>Bookmark</th>\n",
              "      <th>Latest Bookmark</th>\n",
              "      <th>Country</th>\n",
              "      <th>duração em minuto</th>\n",
              "      <th>duração em horas</th>\n",
              "      <th>ano</th>\n",
              "      <th>mes</th>\n",
              "      <th>dia</th>\n",
              "      <th>dia da semana</th>\n",
              "      <th>hora do dia</th>\n",
              "    </tr>\n",
              "  </thead>\n",
              "  <tbody>\n",
              "    <tr>\n",
              "      <th>0</th>\n",
              "      <td>2021-07-11 13:39:18-03:00</td>\n",
              "      <td>Dimitri</td>\n",
              "      <td>00:22:55</td>\n",
              "      <td>Autoplayed: user action: User_Interaction;</td>\n",
              "      <td>Sam &amp; Cat: Temporada 2: #OsSuperDoidos (Episód...</td>\n",
              "      <td>NaN</td>\n",
              "      <td>MStar PureTurnkey51 Skyworth OEM2K Smart TV</td>\n",
              "      <td>00:22:15</td>\n",
              "      <td>00:22:15</td>\n",
              "      <td>BR (Brazil)</td>\n",
              "      <td>22.916667</td>\n",
              "      <td>0.381944</td>\n",
              "      <td>2021</td>\n",
              "      <td>July</td>\n",
              "      <td>11</td>\n",
              "      <td>Sunday</td>\n",
              "      <td>13</td>\n",
              "    </tr>\n",
              "    <tr>\n",
              "      <th>1</th>\n",
              "      <td>2021-07-11 13:17:23-03:00</td>\n",
              "      <td>Dimitri</td>\n",
              "      <td>00:21:32</td>\n",
              "      <td>Autoplayed: user action: User_Interaction;</td>\n",
              "      <td>Sam &amp; Cat: Temporada 2: #ConfusõesDePrimeiraCl...</td>\n",
              "      <td>NaN</td>\n",
              "      <td>MStar PureTurnkey51 Skyworth OEM2K Smart TV</td>\n",
              "      <td>00:22:20</td>\n",
              "      <td>00:22:20</td>\n",
              "      <td>BR (Brazil)</td>\n",
              "      <td>21.533333</td>\n",
              "      <td>0.358889</td>\n",
              "      <td>2021</td>\n",
              "      <td>July</td>\n",
              "      <td>11</td>\n",
              "      <td>Sunday</td>\n",
              "      <td>13</td>\n",
              "    </tr>\n",
              "    <tr>\n",
              "      <th>2</th>\n",
              "      <td>2021-07-11 12:59:26-03:00</td>\n",
              "      <td>Dimitri</td>\n",
              "      <td>00:17:28</td>\n",
              "      <td>Autoplayed: user action: User_Interaction;</td>\n",
              "      <td>Sam &amp; Cat: Temporada 2: #ODroneEOBebê (Episódi...</td>\n",
              "      <td>NaN</td>\n",
              "      <td>MStar PureTurnkey51 Skyworth OEM2K Smart TV</td>\n",
              "      <td>00:22:36</td>\n",
              "      <td>00:22:36</td>\n",
              "      <td>BR (Brazil)</td>\n",
              "      <td>17.466667</td>\n",
              "      <td>0.291111</td>\n",
              "      <td>2021</td>\n",
              "      <td>July</td>\n",
              "      <td>11</td>\n",
              "      <td>Sunday</td>\n",
              "      <td>12</td>\n",
              "    </tr>\n",
              "    <tr>\n",
              "      <th>3</th>\n",
              "      <td>2021-07-01 19:48:52-03:00</td>\n",
              "      <td>Dimitri</td>\n",
              "      <td>00:02:51</td>\n",
              "      <td>NaN</td>\n",
              "      <td>Sam &amp; Cat: Temporada 2: #ODroneEOBebê (Episódi...</td>\n",
              "      <td>NaN</td>\n",
              "      <td>Android DefaultWidevineL3Phone Android Phone</td>\n",
              "      <td>00:02:51</td>\n",
              "      <td>Not latest view</td>\n",
              "      <td>BR (Brazil)</td>\n",
              "      <td>2.850000</td>\n",
              "      <td>0.047500</td>\n",
              "      <td>2021</td>\n",
              "      <td>July</td>\n",
              "      <td>1</td>\n",
              "      <td>Thursday</td>\n",
              "      <td>19</td>\n",
              "    </tr>\n",
              "    <tr>\n",
              "      <th>4</th>\n",
              "      <td>2021-07-01 17:42:01-03:00</td>\n",
              "      <td>Dimitri</td>\n",
              "      <td>01:10:59</td>\n",
              "      <td>NaN</td>\n",
              "      <td>Karate Kid</td>\n",
              "      <td>NaN</td>\n",
              "      <td>Android DefaultWidevineL3Phone Android Phone</td>\n",
              "      <td>01:15:43</td>\n",
              "      <td>01:15:43</td>\n",
              "      <td>BR (Brazil)</td>\n",
              "      <td>70.983333</td>\n",
              "      <td>1.183056</td>\n",
              "      <td>2021</td>\n",
              "      <td>July</td>\n",
              "      <td>1</td>\n",
              "      <td>Thursday</td>\n",
              "      <td>17</td>\n",
              "    </tr>\n",
              "  </tbody>\n",
              "</table>\n",
              "</div>"
            ]
          },
          "metadata": {
            "tags": []
          },
          "execution_count": 69
        }
      ],
      "metadata": {
        "colab": {
          "base_uri": "https://localhost:8080/",
          "height": 513
        },
        "id": "s0QCeDQ5hP4i",
        "outputId": "7f83ff86-93e0-4805-b00d-74c1ebedd5e5"
      }
    },
    {
      "cell_type": "code",
      "execution_count": 70,
      "source": [
        "\r\n",
        "# Criando mais duas colunas a partir da coluna título.\r\n",
        "df[['Título','Temporada/Ep']] = df['Title'].str.split(':',n=1, expand=True)\r\n",
        "df.drop('Title', axis=1, inplace=True)"
      ],
      "outputs": [],
      "metadata": {
        "id": "VjQhpO8fMmH1"
      }
    },
    {
      "cell_type": "code",
      "execution_count": 71,
      "source": [
        "# Classificando a coluna type view em filme e serie.\r\n",
        "df['Type View'] = df.apply(lambda x:'Filme' if pd.isnull(x['Temporada/Ep']) else 'Serie TV' , axis=1)"
      ],
      "outputs": [],
      "metadata": {
        "id": "WMZeE6ZBMvrW"
      }
    },
    {
      "cell_type": "code",
      "execution_count": 72,
      "source": [
        "# Eliminando algumas colunas\r\n",
        "df = df.drop(columns=['Attributes','Supplemental Video Type','Bookmark','Latest Bookmark'])"
      ],
      "outputs": [],
      "metadata": {
        "id": "yBh0vJrpNZjO"
      }
    },
    {
      "cell_type": "code",
      "execution_count": 73,
      "source": [
        "# Renomeando colunas\r\n",
        "df = df.rename(columns={'Start Time': 'Data e hora', 'Profile Name':'Nome do Perfil', 'Country':'País','Type View':'Tipo'})"
      ],
      "outputs": [],
      "metadata": {
        "id": "g-xJ5vDs5CmQ"
      }
    },
    {
      "cell_type": "code",
      "execution_count": 74,
      "source": [
        "df = df[(df['Nome do Perfil'] == 'Olavo')]"
      ],
      "outputs": [],
      "metadata": {
        "id": "aZCeFgqKnwQ6"
      }
    },
    {
      "cell_type": "markdown",
      "source": [
        "# **Análise Exploratória**"
      ],
      "metadata": {
        "id": "JoMdmuAIMxNk"
      }
    },
    {
      "cell_type": "code",
      "execution_count": 75,
      "source": [
        "df.head(4)"
      ],
      "outputs": [
        {
          "output_type": "execute_result",
          "data": {
            "text/plain": [
              "                Data e hora Nome do Perfil  ... Temporada/Ep      Tipo\n",
              "5 2021-07-16 11:58:04-03:00          Olavo  ...   Explicando  Serie TV\n",
              "6 2021-07-16 11:29:15-03:00          Olavo  ...         None     Filme\n",
              "7 2021-07-16 11:28:05-03:00          Olavo  ...         None     Filme\n",
              "8 2021-07-16 11:27:31-03:00          Olavo  ...         None     Filme\n",
              "\n",
              "[4 rows x 15 columns]"
            ],
            "text/html": [
              "<div>\n",
              "<style scoped>\n",
              "    .dataframe tbody tr th:only-of-type {\n",
              "        vertical-align: middle;\n",
              "    }\n",
              "\n",
              "    .dataframe tbody tr th {\n",
              "        vertical-align: top;\n",
              "    }\n",
              "\n",
              "    .dataframe thead th {\n",
              "        text-align: right;\n",
              "    }\n",
              "</style>\n",
              "<table border=\"1\" class=\"dataframe\">\n",
              "  <thead>\n",
              "    <tr style=\"text-align: right;\">\n",
              "      <th></th>\n",
              "      <th>Data e hora</th>\n",
              "      <th>Nome do Perfil</th>\n",
              "      <th>Duration</th>\n",
              "      <th>Device Type</th>\n",
              "      <th>País</th>\n",
              "      <th>duração em minuto</th>\n",
              "      <th>duração em horas</th>\n",
              "      <th>ano</th>\n",
              "      <th>mes</th>\n",
              "      <th>dia</th>\n",
              "      <th>dia da semana</th>\n",
              "      <th>hora do dia</th>\n",
              "      <th>Título</th>\n",
              "      <th>Temporada/Ep</th>\n",
              "      <th>Tipo</th>\n",
              "    </tr>\n",
              "  </thead>\n",
              "  <tbody>\n",
              "    <tr>\n",
              "      <th>5</th>\n",
              "      <td>2021-07-16 11:58:04-03:00</td>\n",
              "      <td>Olavo</td>\n",
              "      <td>00:00:09</td>\n",
              "      <td>Chrome PC (Cadmium)</td>\n",
              "      <td>BR (Brazil)</td>\n",
              "      <td>0.150000</td>\n",
              "      <td>0.002500</td>\n",
              "      <td>2021</td>\n",
              "      <td>July</td>\n",
              "      <td>16</td>\n",
              "      <td>Friday</td>\n",
              "      <td>11</td>\n",
              "      <td>Temporada 3 (Trailer)</td>\n",
              "      <td>Explicando</td>\n",
              "      <td>Serie TV</td>\n",
              "    </tr>\n",
              "    <tr>\n",
              "      <th>6</th>\n",
              "      <td>2021-07-16 11:29:15-03:00</td>\n",
              "      <td>Olavo</td>\n",
              "      <td>00:00:04</td>\n",
              "      <td>Chrome PC (Cadmium)</td>\n",
              "      <td>BR (Brazil)</td>\n",
              "      <td>0.066667</td>\n",
              "      <td>0.001111</td>\n",
              "      <td>2021</td>\n",
              "      <td>July</td>\n",
              "      <td>16</td>\n",
              "      <td>Friday</td>\n",
              "      <td>11</td>\n",
              "      <td>Take Your Pills_Autohook_2_16x9</td>\n",
              "      <td>None</td>\n",
              "      <td>Filme</td>\n",
              "    </tr>\n",
              "    <tr>\n",
              "      <th>7</th>\n",
              "      <td>2021-07-16 11:28:05-03:00</td>\n",
              "      <td>Olavo</td>\n",
              "      <td>00:00:10</td>\n",
              "      <td>Chrome PC (Cadmium)</td>\n",
              "      <td>BR (Brazil)</td>\n",
              "      <td>0.166667</td>\n",
              "      <td>0.002778</td>\n",
              "      <td>2021</td>\n",
              "      <td>July</td>\n",
              "      <td>16</td>\n",
              "      <td>Friday</td>\n",
              "      <td>11</td>\n",
              "      <td>Absorvendo o Tabu (Trailer)</td>\n",
              "      <td>None</td>\n",
              "      <td>Filme</td>\n",
              "    </tr>\n",
              "    <tr>\n",
              "      <th>8</th>\n",
              "      <td>2021-07-16 11:27:31-03:00</td>\n",
              "      <td>Olavo</td>\n",
              "      <td>00:00:06</td>\n",
              "      <td>Chrome PC (Cadmium)</td>\n",
              "      <td>BR (Brazil)</td>\n",
              "      <td>0.100000</td>\n",
              "      <td>0.001667</td>\n",
              "      <td>2021</td>\n",
              "      <td>July</td>\n",
              "      <td>16</td>\n",
              "      <td>Friday</td>\n",
              "      <td>11</td>\n",
              "      <td>The Cabin in the Woods_hook_primary_16x9</td>\n",
              "      <td>None</td>\n",
              "      <td>Filme</td>\n",
              "    </tr>\n",
              "  </tbody>\n",
              "</table>\n",
              "</div>"
            ]
          },
          "metadata": {
            "tags": []
          },
          "execution_count": 75
        }
      ],
      "metadata": {
        "colab": {
          "base_uri": "https://localhost:8080/",
          "height": 431
        },
        "id": "lktTEzYFM53b",
        "outputId": "dff822be-e5e8-4518-907f-4f534188d8f7"
      }
    },
    {
      "cell_type": "code",
      "execution_count": 76,
      "source": [
        "df['Título'].value_counts().head()"
      ],
      "outputs": [
        {
          "output_type": "execute_result",
          "data": {
            "text/plain": [
              "Temporada 1 (Trailer)    33\n",
              "Trailer                  20\n",
              "The Seven Deadly Sins    18\n",
              "Temporada 2 (Trailer)    12\n",
              "Sex/Life                 11\n",
              "Name: Título, dtype: int64"
            ]
          },
          "metadata": {
            "tags": []
          },
          "execution_count": 76
        }
      ],
      "metadata": {
        "colab": {
          "base_uri": "https://localhost:8080/"
        },
        "id": "sBYXWSH2kyo1",
        "outputId": "2ad52afa-4265-43e7-866c-ea6bf454eb5d"
      }
    },
    {
      "cell_type": "code",
      "execution_count": 77,
      "source": [
        "df.info()"
      ],
      "outputs": [
        {
          "output_type": "stream",
          "name": "stdout",
          "text": [
            "<class 'pandas.core.frame.DataFrame'>\n",
            "Int64Index: 293 entries, 5 to 297\n",
            "Data columns (total 15 columns):\n",
            " #   Column             Non-Null Count  Dtype                            \n",
            "---  ------             --------------  -----                            \n",
            " 0   Data e hora        293 non-null    datetime64[ns, America/Sao_Paulo]\n",
            " 1   Nome do Perfil     293 non-null    object                           \n",
            " 2   Duration           293 non-null    object                           \n",
            " 3   Device Type        293 non-null    object                           \n",
            " 4   País               293 non-null    object                           \n",
            " 5   duração em minuto  293 non-null    float64                          \n",
            " 6   duração em horas   293 non-null    float64                          \n",
            " 7   ano                293 non-null    int64                            \n",
            " 8   mes                293 non-null    object                           \n",
            " 9   dia                293 non-null    int64                            \n",
            " 10  dia da semana      293 non-null    object                           \n",
            " 11  hora do dia        293 non-null    int64                            \n",
            " 12  Título             293 non-null    object                           \n",
            " 13  Temporada/Ep       214 non-null    object                           \n",
            " 14  Tipo               293 non-null    object                           \n",
            "dtypes: datetime64[ns, America/Sao_Paulo](1), float64(2), int64(3), object(9)\n",
            "memory usage: 36.6+ KB\n"
          ]
        }
      ],
      "metadata": {
        "colab": {
          "base_uri": "https://localhost:8080/"
        },
        "id": "k5p9PxGv11eu",
        "outputId": "83225ac1-93e5-458f-84a1-0f7f2340301f"
      }
    },
    {
      "cell_type": "code",
      "execution_count": 78,
      "source": [
        "#Tempo total por aparelho\n",
        "tempo_aparelho = df.groupby(by=['Título'])['duração em minuto'].sum().sort_values(ascending=False)\n",
        "tempo_aparelho.head()"
      ],
      "outputs": [
        {
          "output_type": "execute_result",
          "data": {
            "text/plain": [
              "Título\n",
              "Sex/Life                 356.733333\n",
              "Hollywood                340.116667\n",
              "The Seven Deadly Sins    251.633333\n",
              "Lupin                    183.483333\n",
              "Cidade de Gelo           145.233333\n",
              "Name: duração em minuto, dtype: float64"
            ]
          },
          "metadata": {
            "tags": []
          },
          "execution_count": 78
        }
      ],
      "metadata": {
        "colab": {
          "base_uri": "https://localhost:8080/"
        },
        "id": "xPVFm3_mNIE2",
        "outputId": "2bf9a511-aa2a-42f9-89d0-54215f0b068d"
      }
    },
    {
      "cell_type": "code",
      "execution_count": 79,
      "source": [
        "#Tempo total dia da semana\n",
        "dia_semana = df.groupby(by=[\"dia da semana\"])['duração em minuto'].sum().sort_values(ascending=False)\n",
        "dia_semana.head()"
      ],
      "outputs": [
        {
          "output_type": "execute_result",
          "data": {
            "text/plain": [
              "dia da semana\n",
              "Monday      370.750000\n",
              "Thursday    360.900000\n",
              "Sunday      351.566667\n",
              "Friday      275.600000\n",
              "Tuesday     199.350000\n",
              "Name: duração em minuto, dtype: float64"
            ]
          },
          "metadata": {
            "tags": []
          },
          "execution_count": 79
        }
      ],
      "metadata": {
        "colab": {
          "base_uri": "https://localhost:8080/"
        },
        "id": "H-Rw1BoB_foy",
        "outputId": "b7216919-8bc4-48b1-e1ed-c7bd8566bc1e"
      }
    },
    {
      "cell_type": "code",
      "execution_count": 80,
      "source": [
        "#Tempo total no ano\n",
        "dia_semana = df.groupby(by=[\"ano\"])['duração em minuto'].sum().sort_values(ascending=False)\n",
        "dia_semana.head()"
      ],
      "outputs": [
        {
          "output_type": "execute_result",
          "data": {
            "text/plain": [
              "ano\n",
              "2021    1734.9\n",
              "Name: duração em minuto, dtype: float64"
            ]
          },
          "metadata": {
            "tags": []
          },
          "execution_count": 80
        }
      ],
      "metadata": {
        "colab": {
          "base_uri": "https://localhost:8080/"
        },
        "id": "VNCR9WiEHi1s",
        "outputId": "18db6cf5-7607-48f0-f421-a435e68cb499"
      }
    },
    {
      "cell_type": "code",
      "execution_count": 81,
      "source": [
        "#Tempo total mes\n",
        "mes = df.groupby(by=[\"mes\"])['duração em minuto'].sum().sort_values(ascending=False)\n",
        "mes.head()"
      ],
      "outputs": [
        {
          "output_type": "execute_result",
          "data": {
            "text/plain": [
              "mes\n",
              "July    1734.9\n",
              "Name: duração em minuto, dtype: float64"
            ]
          },
          "metadata": {
            "tags": []
          },
          "execution_count": 81
        }
      ],
      "metadata": {
        "colab": {
          "base_uri": "https://localhost:8080/"
        },
        "id": "5LyJ9NsNH-Az",
        "outputId": "f87a5634-00e0-46e6-aa9a-f1c9a8af796b"
      }
    },
    {
      "cell_type": "code",
      "execution_count": 82,
      "source": [
        "#Nº de ep assistidos \n",
        "n_ep = df['Temporada/Ep'].value_counts()\n",
        "n_ep.sum()"
      ],
      "outputs": [
        {
          "output_type": "execute_result",
          "data": {
            "text/plain": [
              "214"
            ]
          },
          "metadata": {
            "tags": []
          },
          "execution_count": 82
        }
      ],
      "metadata": {
        "colab": {
          "base_uri": "https://localhost:8080/"
        },
        "id": "sE4rUWQXw_3s",
        "outputId": "04e3c60f-c425-4841-d0e7-2de41ab1e6e9"
      }
    },
    {
      "cell_type": "code",
      "execution_count": 83,
      "source": [
        "filmes = df['Tipo']=='Filme'\n",
        "filmes.value_counts()"
      ],
      "outputs": [
        {
          "output_type": "execute_result",
          "data": {
            "text/plain": [
              "False    214\n",
              "True      79\n",
              "Name: Tipo, dtype: int64"
            ]
          },
          "metadata": {
            "tags": []
          },
          "execution_count": 83
        }
      ],
      "metadata": {
        "colab": {
          "base_uri": "https://localhost:8080/"
        },
        "id": "cXgza8ilzarL",
        "outputId": "cc0ab8ee-9a9f-4815-b550-60ef46817100"
      }
    },
    {
      "cell_type": "code",
      "execution_count": 84,
      "source": [
        "df.head(3)"
      ],
      "outputs": [
        {
          "output_type": "execute_result",
          "data": {
            "text/plain": [
              "                Data e hora Nome do Perfil  ... Temporada/Ep      Tipo\n",
              "5 2021-07-16 11:58:04-03:00          Olavo  ...   Explicando  Serie TV\n",
              "6 2021-07-16 11:29:15-03:00          Olavo  ...         None     Filme\n",
              "7 2021-07-16 11:28:05-03:00          Olavo  ...         None     Filme\n",
              "\n",
              "[3 rows x 15 columns]"
            ],
            "text/html": [
              "<div>\n",
              "<style scoped>\n",
              "    .dataframe tbody tr th:only-of-type {\n",
              "        vertical-align: middle;\n",
              "    }\n",
              "\n",
              "    .dataframe tbody tr th {\n",
              "        vertical-align: top;\n",
              "    }\n",
              "\n",
              "    .dataframe thead th {\n",
              "        text-align: right;\n",
              "    }\n",
              "</style>\n",
              "<table border=\"1\" class=\"dataframe\">\n",
              "  <thead>\n",
              "    <tr style=\"text-align: right;\">\n",
              "      <th></th>\n",
              "      <th>Data e hora</th>\n",
              "      <th>Nome do Perfil</th>\n",
              "      <th>Duration</th>\n",
              "      <th>Device Type</th>\n",
              "      <th>País</th>\n",
              "      <th>duração em minuto</th>\n",
              "      <th>duração em horas</th>\n",
              "      <th>ano</th>\n",
              "      <th>mes</th>\n",
              "      <th>dia</th>\n",
              "      <th>dia da semana</th>\n",
              "      <th>hora do dia</th>\n",
              "      <th>Título</th>\n",
              "      <th>Temporada/Ep</th>\n",
              "      <th>Tipo</th>\n",
              "    </tr>\n",
              "  </thead>\n",
              "  <tbody>\n",
              "    <tr>\n",
              "      <th>5</th>\n",
              "      <td>2021-07-16 11:58:04-03:00</td>\n",
              "      <td>Olavo</td>\n",
              "      <td>00:00:09</td>\n",
              "      <td>Chrome PC (Cadmium)</td>\n",
              "      <td>BR (Brazil)</td>\n",
              "      <td>0.150000</td>\n",
              "      <td>0.002500</td>\n",
              "      <td>2021</td>\n",
              "      <td>July</td>\n",
              "      <td>16</td>\n",
              "      <td>Friday</td>\n",
              "      <td>11</td>\n",
              "      <td>Temporada 3 (Trailer)</td>\n",
              "      <td>Explicando</td>\n",
              "      <td>Serie TV</td>\n",
              "    </tr>\n",
              "    <tr>\n",
              "      <th>6</th>\n",
              "      <td>2021-07-16 11:29:15-03:00</td>\n",
              "      <td>Olavo</td>\n",
              "      <td>00:00:04</td>\n",
              "      <td>Chrome PC (Cadmium)</td>\n",
              "      <td>BR (Brazil)</td>\n",
              "      <td>0.066667</td>\n",
              "      <td>0.001111</td>\n",
              "      <td>2021</td>\n",
              "      <td>July</td>\n",
              "      <td>16</td>\n",
              "      <td>Friday</td>\n",
              "      <td>11</td>\n",
              "      <td>Take Your Pills_Autohook_2_16x9</td>\n",
              "      <td>None</td>\n",
              "      <td>Filme</td>\n",
              "    </tr>\n",
              "    <tr>\n",
              "      <th>7</th>\n",
              "      <td>2021-07-16 11:28:05-03:00</td>\n",
              "      <td>Olavo</td>\n",
              "      <td>00:00:10</td>\n",
              "      <td>Chrome PC (Cadmium)</td>\n",
              "      <td>BR (Brazil)</td>\n",
              "      <td>0.166667</td>\n",
              "      <td>0.002778</td>\n",
              "      <td>2021</td>\n",
              "      <td>July</td>\n",
              "      <td>16</td>\n",
              "      <td>Friday</td>\n",
              "      <td>11</td>\n",
              "      <td>Absorvendo o Tabu (Trailer)</td>\n",
              "      <td>None</td>\n",
              "      <td>Filme</td>\n",
              "    </tr>\n",
              "  </tbody>\n",
              "</table>\n",
              "</div>"
            ]
          },
          "metadata": {
            "tags": []
          },
          "execution_count": 84
        }
      ],
      "metadata": {
        "colab": {
          "base_uri": "https://localhost:8080/",
          "height": 349
        },
        "id": "T_p2Gt7Z2zqm",
        "outputId": "489f90cf-87e7-4ca1-cce8-09e90c259d68"
      }
    },
    {
      "cell_type": "code",
      "execution_count": 85,
      "source": [
        "df = df.drop(columns='Duration')"
      ],
      "outputs": [],
      "metadata": {
        "id": "0bCTOCsD2Xse"
      }
    },
    {
      "cell_type": "code",
      "execution_count": 86,
      "source": [
        "df.to_csv('netflix.csv', index=0)"
      ],
      "outputs": [],
      "metadata": {
        "id": "7njTyi8OWb6G"
      }
    }
  ]
}